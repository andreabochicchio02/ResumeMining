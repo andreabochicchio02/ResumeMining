{
 "cells": [
  {
   "cell_type": "code",
   "execution_count": 1,
   "id": "7a54319f",
   "metadata": {},
   "outputs": [
    {
     "name": "stderr",
     "output_type": "stream",
     "text": [
      "Xet Storage is enabled for this repo, but the 'hf_xet' package is not installed. Falling back to regular HTTP download. For better performance, install the package with: `pip install huggingface_hub[hf_xet]` or `pip install hf_xet`\n"
     ]
    },
    {
     "data": {
      "application/vnd.jupyter.widget-view+json": {
       "model_id": "f4511700c58243578b04979ab81c560c",
       "version_major": 2,
       "version_minor": 0
      },
      "text/plain": [
       "model.safetensors:   0%|          | 0.00/440M [00:00<?, ?B/s]"
      ]
     },
     "metadata": {},
     "output_type": "display_data"
    },
    {
     "name": "stderr",
     "output_type": "stream",
     "text": [
      "c:\\Users\\filip\\anaconda3\\envs\\DMML\\Lib\\site-packages\\huggingface_hub\\file_download.py:144: UserWarning: `huggingface_hub` cache-system uses symlinks by default to efficiently store duplicated files but your machine does not support them in C:\\Users\\filip\\.cache\\huggingface\\hub\\models--bert-base-uncased. Caching files will still work but in a degraded version that might require more space on your disk. This warning can be disabled by setting the `HF_HUB_DISABLE_SYMLINKS_WARNING` environment variable. For more details, see https://huggingface.co/docs/huggingface_hub/how-to-cache#limitations.\n",
      "To support symlinks on Windows, you either need to activate Developer Mode or to run Python as an administrator. In order to activate developer mode, see this article: https://docs.microsoft.com/en-us/windows/apps/get-started/enable-your-device-for-development\n",
      "  warnings.warn(message)\n"
     ]
    },
    {
     "name": "stdout",
     "output_type": "stream",
     "text": [
      "Estrazione embeddings da BERT...\n"
     ]
    },
    {
     "name": "stderr",
     "output_type": "stream",
     "text": [
      "100%|██████████| 1986/1986 [23:06<00:00,  1.43it/s]  \n",
      "100%|██████████| 497/497 [04:07<00:00,  2.01it/s]\n"
     ]
    },
    {
     "name": "stdout",
     "output_type": "stream",
     "text": [
      "\n",
      "Accuracy: 0.4386317907444668\n",
      "\n",
      "Classification Report:\n",
      "                         precision    recall  f1-score   support\n",
      "\n",
      "            ACCOUNTANT       0.59      0.79      0.68        28\n",
      "              ADVOCATE       0.47      0.30      0.37        30\n",
      "           AGRICULTURE       0.00      0.00      0.00        10\n",
      "               APPAREL       0.47      0.50      0.48        14\n",
      "                  ARTS       0.23      0.28      0.25        18\n",
      "            AUTOMOBILE       0.00      0.00      0.00         5\n",
      "              AVIATION       0.58      0.75      0.65        24\n",
      "               BANKING       0.22      0.31      0.26        16\n",
      "                   BPO       0.00      0.00      0.00         3\n",
      "  BUSINESS-DEVELOPMENT       0.35      0.48      0.41        23\n",
      "                  CHEF       0.65      0.77      0.71        31\n",
      "          CONSTRUCTION       0.76      0.41      0.53        32\n",
      "            CONSULTANT       0.08      0.04      0.06        23\n",
      "              DESIGNER       0.39      0.37      0.38        19\n",
      "         DIGITAL-MEDIA       0.53      0.36      0.43        22\n",
      "           ENGINEERING       0.29      0.64      0.40        14\n",
      "               FINANCE       0.52      0.44      0.48        25\n",
      "               FITNESS       0.38      0.33      0.36        24\n",
      "            HEALTHCARE       0.35      0.30      0.32        20\n",
      "                    HR       0.43      0.56      0.49        18\n",
      "INFORMATION-TECHNOLOGY       0.47      0.62      0.53        26\n",
      "      PUBLIC-RELATIONS       0.55      0.60      0.57        20\n",
      "                 SALES       0.20      0.13      0.16        30\n",
      "               TEACHER       0.43      0.55      0.48        22\n",
      "\n",
      "              accuracy                           0.44       497\n",
      "             macro avg       0.37      0.40      0.37       497\n",
      "          weighted avg       0.43      0.44      0.42       497\n",
      "\n"
     ]
    },
    {
     "name": "stderr",
     "output_type": "stream",
     "text": [
      "c:\\Users\\filip\\anaconda3\\envs\\DMML\\Lib\\site-packages\\sklearn\\metrics\\_classification.py:1565: UndefinedMetricWarning: Precision is ill-defined and being set to 0.0 in labels with no predicted samples. Use `zero_division` parameter to control this behavior.\n",
      "  _warn_prf(average, modifier, f\"{metric.capitalize()} is\", len(result))\n",
      "c:\\Users\\filip\\anaconda3\\envs\\DMML\\Lib\\site-packages\\sklearn\\metrics\\_classification.py:1565: UndefinedMetricWarning: Precision is ill-defined and being set to 0.0 in labels with no predicted samples. Use `zero_division` parameter to control this behavior.\n",
      "  _warn_prf(average, modifier, f\"{metric.capitalize()} is\", len(result))\n",
      "c:\\Users\\filip\\anaconda3\\envs\\DMML\\Lib\\site-packages\\sklearn\\metrics\\_classification.py:1565: UndefinedMetricWarning: Precision is ill-defined and being set to 0.0 in labels with no predicted samples. Use `zero_division` parameter to control this behavior.\n",
      "  _warn_prf(average, modifier, f\"{metric.capitalize()} is\", len(result))\n"
     ]
    }
   ],
   "source": [
    "import pandas as pd\n",
    "import numpy as np\n",
    "from sklearn.ensemble import RandomForestClassifier\n",
    "from sklearn.metrics import classification_report, accuracy_score\n",
    "from sklearn.model_selection import train_test_split\n",
    "from transformers import BertTokenizer, BertModel\n",
    "import torch\n",
    "from tqdm import tqdm\n",
    "\n",
    "# Caricamento del CSV\n",
    "df = pd.read_csv(\"../PreProcessing/processed_data/Resume_proc_lemm.csv\")  # Cambia con il tuo nome file\n",
    "texts = df[\"Resume_str\"].tolist()\n",
    "labels = df[\"Category\"].astype(\"category\").cat.codes  # Conversione in codici numerici\n",
    "\n",
    "# Suddivisione del dataset\n",
    "X_train, X_test, y_train, y_test = train_test_split(texts, labels, test_size=0.2, random_state=42)\n",
    "\n",
    "# Caricamento tokenizer e modello BERT\n",
    "tokenizer = BertTokenizer.from_pretrained(\"bert-base-uncased\")\n",
    "bert_model = BertModel.from_pretrained(\"bert-base-uncased\")\n",
    "bert_model.eval()\n",
    "\n",
    "# Funzione per ottenere l'embedding del CLS token\n",
    "def get_bert_embedding(text):\n",
    "    with torch.no_grad():\n",
    "        inputs = tokenizer(text, return_tensors=\"pt\", truncation=True, padding=True, max_length=512)\n",
    "        outputs = bert_model(**inputs)\n",
    "        cls_embedding = outputs.last_hidden_state[:, 0, :].squeeze().numpy()\n",
    "    return cls_embedding\n",
    "\n",
    "# Estrazione embeddings da BERT\n",
    "print(\"Estrazione embeddings da BERT...\")\n",
    "X_train_embed = np.array([get_bert_embedding(text) for text in tqdm(X_train)])\n",
    "X_test_embed = np.array([get_bert_embedding(text) for text in tqdm(X_test)])\n",
    "\n",
    "# Classificatore Random Forest\n",
    "clf = RandomForestClassifier(n_estimators=100, random_state=42)\n",
    "clf.fit(X_train_embed, y_train)\n",
    "\n",
    "# Predizione e valutazione\n",
    "y_pred = clf.predict(X_test_embed)\n",
    "\n",
    "print(\"\\nAccuracy:\", accuracy_score(y_test, y_pred))\n",
    "print(\"\\nClassification Report:\\n\", classification_report(y_test, y_pred, target_names=df[\"Category\"].astype(\"category\").cat.categories))"
   ]
  }
 ],
 "metadata": {
  "kernelspec": {
   "display_name": "DMML",
   "language": "python",
   "name": "python3"
  },
  "language_info": {
   "codemirror_mode": {
    "name": "ipython",
    "version": 3
   },
   "file_extension": ".py",
   "mimetype": "text/x-python",
   "name": "python",
   "nbconvert_exporter": "python",
   "pygments_lexer": "ipython3",
   "version": "3.11.11"
  }
 },
 "nbformat": 4,
 "nbformat_minor": 5
}
