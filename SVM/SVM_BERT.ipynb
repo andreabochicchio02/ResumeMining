{
 "cells": [
  {
   "cell_type": "code",
   "execution_count": 1,
   "metadata": {},
   "outputs": [],
   "source": [
    "import pandas as pd\n",
    "import numpy as np\n",
    "import matplotlib.pyplot as plt\n",
    "import nltk\n",
    "import seaborn as sns\n",
    "import torch\n",
    "\n",
    "from transformers import BertTokenizer, BertModel\n",
    "from tqdm import tqdm\n",
    "from time import time\n",
    "from sklearn.model_selection import learning_curve\n",
    "from sklearn.ensemble import RandomForestClassifier\n",
    "from sklearn.model_selection import GridSearchCV\n",
    "from sklearn.model_selection import StratifiedKFold\n",
    "from sklearn.ensemble import RandomForestClassifier\n",
    "from sklearn.metrics import classification_report\n",
    "from sklearn.model_selection import train_test_split\n",
    "from sklearn.metrics import ConfusionMatrixDisplay\n",
    "from imblearn.over_sampling import SMOTE\n",
    "from sklearn.feature_extraction.text import TfidfVectorizer\n",
    "from sklearn.svm import SVC\n",
    "from sklearn.preprocessing import StandardScaler\n",
    "from sklearn.pipeline import Pipeline"
   ]
  },
  {
   "cell_type": "markdown",
   "metadata": {},
   "source": [
    "### Extraction Features"
   ]
  },
  {
   "cell_type": "code",
   "execution_count": 2,
   "metadata": {},
   "outputs": [],
   "source": [
    "df = pd.read_csv(\"../PreProcessing/processed_data/Resume_proc_lemm.csv\")"
   ]
  },
  {
   "cell_type": "code",
   "execution_count": 3,
   "metadata": {},
   "outputs": [],
   "source": [
    "# Conversione in un formato utile a BERT\n",
    "resumes = df[\"Resume_str\"].tolist()\n",
    "labels = df[\"Category\"].astype(\"category\").cat.codes"
   ]
  },
  {
   "cell_type": "code",
   "execution_count": 4,
   "metadata": {},
   "outputs": [],
   "source": [
    "X_train, X_test, y_train, y_test = train_test_split(resumes, labels, test_size=0.2, random_state=42)"
   ]
  },
  {
   "cell_type": "code",
   "execution_count": 5,
   "metadata": {},
   "outputs": [
    {
     "data": {
      "text/plain": [
       "BertModel(\n",
       "  (embeddings): BertEmbeddings(\n",
       "    (word_embeddings): Embedding(30522, 768, padding_idx=0)\n",
       "    (position_embeddings): Embedding(512, 768)\n",
       "    (token_type_embeddings): Embedding(2, 768)\n",
       "    (LayerNorm): LayerNorm((768,), eps=1e-12, elementwise_affine=True)\n",
       "    (dropout): Dropout(p=0.1, inplace=False)\n",
       "  )\n",
       "  (encoder): BertEncoder(\n",
       "    (layer): ModuleList(\n",
       "      (0-11): 12 x BertLayer(\n",
       "        (attention): BertAttention(\n",
       "          (self): BertSdpaSelfAttention(\n",
       "            (query): Linear(in_features=768, out_features=768, bias=True)\n",
       "            (key): Linear(in_features=768, out_features=768, bias=True)\n",
       "            (value): Linear(in_features=768, out_features=768, bias=True)\n",
       "            (dropout): Dropout(p=0.1, inplace=False)\n",
       "          )\n",
       "          (output): BertSelfOutput(\n",
       "            (dense): Linear(in_features=768, out_features=768, bias=True)\n",
       "            (LayerNorm): LayerNorm((768,), eps=1e-12, elementwise_affine=True)\n",
       "            (dropout): Dropout(p=0.1, inplace=False)\n",
       "          )\n",
       "        )\n",
       "        (intermediate): BertIntermediate(\n",
       "          (dense): Linear(in_features=768, out_features=3072, bias=True)\n",
       "          (intermediate_act_fn): GELUActivation()\n",
       "        )\n",
       "        (output): BertOutput(\n",
       "          (dense): Linear(in_features=3072, out_features=768, bias=True)\n",
       "          (LayerNorm): LayerNorm((768,), eps=1e-12, elementwise_affine=True)\n",
       "          (dropout): Dropout(p=0.1, inplace=False)\n",
       "        )\n",
       "      )\n",
       "    )\n",
       "  )\n",
       "  (pooler): BertPooler(\n",
       "    (dense): Linear(in_features=768, out_features=768, bias=True)\n",
       "    (activation): Tanh()\n",
       "  )\n",
       ")"
      ]
     },
     "execution_count": 5,
     "metadata": {},
     "output_type": "execute_result"
    }
   ],
   "source": [
    "# Caricamento tokenizer e modello BERT\n",
    "tokenizer = BertTokenizer.from_pretrained(\"bert-base-uncased\")\n",
    "bert_model = BertModel.from_pretrained(\"bert-base-uncased\")\n",
    "bert_model.eval()"
   ]
  },
  {
   "cell_type": "code",
   "execution_count": 6,
   "metadata": {},
   "outputs": [],
   "source": [
    "# Funzione per ottenere l'embedding del CLS token\n",
    "def get_bert_embedding(text):\n",
    "    with torch.no_grad():\n",
    "        inputs = tokenizer(text, return_tensors=\"pt\", truncation=True, padding=True, max_length=512)\n",
    "        outputs = bert_model(**inputs)\n",
    "        cls_embedding = outputs.last_hidden_state[:, 0, :].squeeze().numpy()\n",
    "    return cls_embedding"
   ]
  },
  {
   "cell_type": "code",
   "execution_count": 7,
   "metadata": {},
   "outputs": [
    {
     "name": "stderr",
     "output_type": "stream",
     "text": [
      "100%|██████████| 1986/1986 [25:15<00:00,  1.31it/s]\n",
      "100%|██████████| 497/497 [04:06<00:00,  2.02it/s]\n"
     ]
    }
   ],
   "source": [
    "X_train_embed = np.array([get_bert_embedding(text) for text in tqdm(X_train)])\n",
    "X_test_embed = np.array([get_bert_embedding(text) for text in tqdm(X_test)])"
   ]
  },
  {
   "cell_type": "code",
   "execution_count": 8,
   "metadata": {},
   "outputs": [],
   "source": [
    "def smote(X_train, y_train):\n",
    "    #print(\"Distribuzione delle classi nel training set prima di SMOTE:\")\n",
    "    # print(y_train.value_counts())\n",
    "    \n",
    "    # Identifica le classi minoritarie\n",
    "    class_counts = y_train.value_counts()\n",
    "    min_classes = class_counts[class_counts < 0.7*class_counts.mean()].index.tolist()\n",
    "    \n",
    "    print(f\"Applicazione di SMOTE alle classi: {min_classes} \\n\")\n",
    "    \n",
    "    # Crea un dizionario per la strategia di campionamento\n",
    "    target_size = int(class_counts.max() * 0.8)\n",
    "    sampling_strategy = {cls: target_size for cls in min_classes}\n",
    "    \n",
    "    # Applica SMOTE\n",
    "    smote = SMOTE(sampling_strategy=sampling_strategy, random_state=42)\n",
    "    X_train_resampled, y_train_resampled = smote.fit_resample(X_train, y_train)\n",
    "    \n",
    "    # print(\"Distribuzione delle classi nel training set dopo SMOTE:\")\n",
    "    # print(pd.Series(y_train_resampled).value_counts())\n",
    "    \n",
    "    return X_train_resampled, y_train_resampled"
   ]
  },
  {
   "cell_type": "code",
   "execution_count": 9,
   "metadata": {},
   "outputs": [
    {
     "name": "stdout",
     "output_type": "stream",
     "text": [
      "Applicazione di SMOTE alle classi: [2, 5, 8] \n",
      "\n"
     ]
    }
   ],
   "source": [
    "X_train_resampled, y_train_resampled = smote(X_train_embed, y_train.reset_index(drop=True))"
   ]
  },
  {
   "cell_type": "markdown",
   "metadata": {},
   "source": [
    "### Support Vector Classifier"
   ]
  },
  {
   "cell_type": "code",
   "execution_count": 10,
   "metadata": {},
   "outputs": [],
   "source": [
    "def report(results, n_top=10):\n",
    "    for i in range(1, n_top + 1):\n",
    "        candidates = np.flatnonzero(results[\"rank_test_score\"] == i)\n",
    "        for candidate in candidates:\n",
    "            print(f\"Model with rank: {i}\")\n",
    "            print(f\"Mean validation score: {results['mean_test_score'][candidate]:.3f} (std: {results['std_test_score'][candidate]:.3f})\")\n",
    "            print(f\"Parameters: {results['params'][candidate]}\")\n",
    "            print(\"\")"
   ]
  },
  {
   "cell_type": "code",
   "execution_count": 11,
   "metadata": {},
   "outputs": [],
   "source": [
    "skf = StratifiedKFold(n_splits=5)"
   ]
  },
  {
   "cell_type": "code",
   "execution_count": 12,
   "metadata": {},
   "outputs": [],
   "source": [
    "# Pipeline: TF-IDF + Scaling + SVM\n",
    "svm_pipeline = Pipeline([\n",
    "    ('scaler', StandardScaler(with_mean=False)),  # with_mean=False per sparse matrix\n",
    "    ('clf', SVC())\n",
    "])\n",
    "\n",
    "param_grid_svm = [\n",
    "    {\n",
    "        'clf__kernel': ['linear'],\n",
    "        'clf__C': [0.1, 1, 10, 100]\n",
    "    },\n",
    "    {\n",
    "        'clf__kernel': ['poly'],\n",
    "        'clf__C': [1, 10],\n",
    "        'clf__degree': [2, 3],\n",
    "        'clf__coef0': [0.5, 1.0]\n",
    "    }\n",
    "]\n",
    "\n",
    "grid_svm = GridSearchCV(\n",
    "    estimator=svm_pipeline,\n",
    "    param_grid=param_grid_svm,\n",
    "    cv=skf,\n",
    "    scoring='accuracy',\n",
    "    verbose=3,\n",
    "    n_jobs=-1\n",
    ")\n"
   ]
  },
  {
   "cell_type": "code",
   "execution_count": 13,
   "metadata": {},
   "outputs": [
    {
     "name": "stdout",
     "output_type": "stream",
     "text": [
      "Fitting 5 folds for each of 12 candidates, totalling 60 fits\n",
      "GridSearchCV took 26.38 seconds for 12 candidates parameter settings.\n",
      "\n",
      "Model with rank: 1\n",
      "Mean validation score: 0.524 (std: 0.028)\n",
      "Parameters: {'clf__C': 1, 'clf__coef0': 1.0, 'clf__degree': 3, 'clf__kernel': 'poly'}\n",
      "\n",
      "Model with rank: 2\n",
      "Mean validation score: 0.517 (std: 0.032)\n",
      "Parameters: {'clf__C': 10, 'clf__coef0': 0.5, 'clf__degree': 2, 'clf__kernel': 'poly'}\n",
      "\n",
      "Model with rank: 3\n",
      "Mean validation score: 0.510 (std: 0.023)\n",
      "Parameters: {'clf__C': 10, 'clf__coef0': 0.5, 'clf__degree': 3, 'clf__kernel': 'poly'}\n",
      "\n",
      "Model with rank: 4\n",
      "Mean validation score: 0.509 (std: 0.028)\n",
      "Parameters: {'clf__C': 10, 'clf__coef0': 1.0, 'clf__degree': 2, 'clf__kernel': 'poly'}\n",
      "\n",
      "Model with rank: 5\n",
      "Mean validation score: 0.509 (std: 0.021)\n",
      "Parameters: {'clf__C': 10, 'clf__coef0': 1.0, 'clf__degree': 3, 'clf__kernel': 'poly'}\n",
      "\n",
      "Model with rank: 6\n",
      "Mean validation score: 0.508 (std: 0.021)\n",
      "Parameters: {'clf__C': 1, 'clf__coef0': 0.5, 'clf__degree': 3, 'clf__kernel': 'poly'}\n",
      "\n",
      "Model with rank: 7\n",
      "Mean validation score: 0.500 (std: 0.020)\n",
      "Parameters: {'clf__C': 0.1, 'clf__kernel': 'linear'}\n",
      "\n",
      "Model with rank: 7\n",
      "Mean validation score: 0.500 (std: 0.020)\n",
      "Parameters: {'clf__C': 1, 'clf__kernel': 'linear'}\n",
      "\n",
      "Model with rank: 7\n",
      "Mean validation score: 0.500 (std: 0.020)\n",
      "Parameters: {'clf__C': 10, 'clf__kernel': 'linear'}\n",
      "\n",
      "Model with rank: 7\n",
      "Mean validation score: 0.500 (std: 0.020)\n",
      "Parameters: {'clf__C': 100, 'clf__kernel': 'linear'}\n",
      "\n",
      "{'clf__C': 1, 'clf__coef0': 1.0, 'clf__degree': 3, 'clf__kernel': 'poly'}\n"
     ]
    }
   ],
   "source": [
    "#'''\n",
    "start = time()\n",
    "grid_search_svm = grid_svm.fit(X_train_resampled, y_train_resampled)\n",
    "print(f\"GridSearchCV took {(time() - start):.2f} seconds for {len(grid_search_svm.cv_results_['params'])} candidates parameter settings.\\n\")\n",
    "\n",
    "report(grid_search_svm.cv_results_)\n",
    "print(grid_search_svm.best_params_)\n",
    "#'''"
   ]
  },
  {
   "cell_type": "code",
   "execution_count": 14,
   "metadata": {},
   "outputs": [
    {
     "name": "stdout",
     "output_type": "stream",
     "text": [
      "{'clf__C': 1, 'clf__coef0': 1.0, 'clf__degree': 3, 'clf__kernel': 'poly'}\n"
     ]
    }
   ],
   "source": [
    "print(grid_search_svm.best_params_)"
   ]
  },
  {
   "cell_type": "code",
   "execution_count": 15,
   "metadata": {},
   "outputs": [
    {
     "data": {
      "text/plain": [
       "\"\\nresults = pd.DataFrame(grid_search_svm.cv_results_)\\n\\nfiltered = results[\\n    (results['param_criterion'] == 'gini') & \\n    (results['param_max_features'] == 'sqrt')\\n]\\n\\npvt = filtered.pivot_table(\\n    values='mean_test_score',\\n    index='param_max_depth',\\n    columns='param_n_estimators'\\n)\\n\\nf, ax = plt.subplots(figsize=(6, 5))\\nsns.heatmap(pvt, cmap='viridis', annot=True, ax=ax)\\nplt.title('Accuracy Score (criterion=gini, max_features=sqrt)')\\nplt.xlabel('n_estimators')\\nplt.ylabel('max_depth')\\nplt.show()\\n\""
      ]
     },
     "execution_count": 15,
     "metadata": {},
     "output_type": "execute_result"
    }
   ],
   "source": [
    "'''\n",
    "results = pd.DataFrame(grid_search_svm.cv_results_)\n",
    "\n",
    "filtered = results[\n",
    "    (results['param_criterion'] == 'gini') & \n",
    "    (results['param_max_features'] == 'sqrt')\n",
    "]\n",
    "\n",
    "pvt = filtered.pivot_table(\n",
    "    values='mean_test_score',\n",
    "    index='param_max_depth',\n",
    "    columns='param_n_estimators'\n",
    ")\n",
    "\n",
    "f, ax = plt.subplots(figsize=(6, 5))\n",
    "sns.heatmap(pvt, cmap='viridis', annot=True, ax=ax)\n",
    "plt.title('Accuracy Score (criterion=gini, max_features=sqrt)')\n",
    "plt.xlabel('n_estimators')\n",
    "plt.ylabel('max_depth')\n",
    "plt.show()\n",
    "'''"
   ]
  },
  {
   "cell_type": "code",
   "execution_count": 16,
   "metadata": {},
   "outputs": [],
   "source": [
    "SVC_Model_best = grid_search_svm.best_estimator_\n",
    "prediction = SVC_Model_best.predict(X_test_embed)"
   ]
  },
  {
   "cell_type": "code",
   "execution_count": 17,
   "metadata": {},
   "outputs": [],
   "source": [
    "# SVC_Model_best = RandomForestClassifier(random_state=42, max_features='sqrt', n_estimators= 700, max_depth=10, criterion='gini')\n",
    "# SVC_Model_best.fit(X_train_resampled, y_train_resampled)"
   ]
  },
  {
   "cell_type": "code",
   "execution_count": 18,
   "metadata": {},
   "outputs": [],
   "source": [
    "# prediction = SVC_Model_best.predict(X_test_features)"
   ]
  },
  {
   "cell_type": "code",
   "execution_count": 19,
   "metadata": {},
   "outputs": [
    {
     "name": "stdout",
     "output_type": "stream",
     "text": [
      "Training Score: 0.79\n",
      "Test Score: 0.54\n"
     ]
    }
   ],
   "source": [
    "print(\"Training Score: {:.2f}\".format(SVC_Model_best.score(X_train_resampled, y_train_resampled)))\n",
    "print(\"Test Score: {:.2f}\".format(SVC_Model_best.score(X_test_embed, y_test)))"
   ]
  },
  {
   "cell_type": "code",
   "execution_count": 20,
   "metadata": {},
   "outputs": [
    {
     "name": "stdout",
     "output_type": "stream",
     "text": [
      "              precision    recall  f1-score   support\n",
      "\n",
      "           0       0.71      0.79      0.75        28\n",
      "           1       0.62      0.27      0.37        30\n",
      "           2       0.18      0.20      0.19        10\n",
      "           3       0.45      0.64      0.53        14\n",
      "           4       0.47      0.39      0.42        18\n",
      "           5       0.00      0.00      0.00         5\n",
      "           6       0.74      0.71      0.72        24\n",
      "           7       0.50      0.75      0.60        16\n",
      "           8       0.00      0.00      0.00         3\n",
      "           9       0.59      0.43      0.50        23\n",
      "          10       0.77      0.77      0.77        31\n",
      "          11       0.82      0.72      0.77        32\n",
      "          12       0.30      0.13      0.18        23\n",
      "          13       0.64      0.47      0.55        19\n",
      "          14       0.48      0.55      0.51        22\n",
      "          15       0.45      0.71      0.56        14\n",
      "          16       0.50      0.48      0.49        25\n",
      "          17       0.46      0.46      0.46        24\n",
      "          18       0.37      0.50      0.43        20\n",
      "          19       0.57      0.72      0.63        18\n",
      "          20       0.42      0.58      0.48        26\n",
      "          21       0.62      0.50      0.56        20\n",
      "          22       0.53      0.53      0.53        30\n",
      "          23       0.48      0.59      0.53        22\n",
      "\n",
      "    accuracy                           0.54       497\n",
      "   macro avg       0.49      0.50      0.48       497\n",
      "weighted avg       0.55      0.54      0.53       497\n",
      "\n"
     ]
    }
   ],
   "source": [
    "\n",
    "print(classification_report(y_test, prediction))"
   ]
  },
  {
   "cell_type": "code",
   "execution_count": 21,
   "metadata": {},
   "outputs": [
    {
     "data": {
      "text/plain": [
       "<Figure size 1500x1000 with 0 Axes>"
      ]
     },
     "metadata": {},
     "output_type": "display_data"
    },
    {
     "data": {
      "image/png": "[encoded data removed]",
      "text/plain": [
       "<Figure size 640x480 with 2 Axes>"
      ]
     },
     "metadata": {},
     "output_type": "display_data"
    }
   ],
   "source": [
    "plt.figure(figsize=(15, 10))  # Imposta la dimensione della figura\n",
    "ConfusionMatrixDisplay.from_predictions(y_test, prediction)\n",
    "plt.xticks(rotation=90)\n",
    "plt.show()"
   ]
  }
 ],
 "metadata": {
  "kernelspec": {
   "display_name": "Python 3",
   "language": "python",
   "name": "python3"
  },
  "language_info": {
   "codemirror_mode": {
    "name": "ipython",
    "version": 3
   },
   "file_extension": ".py",
   "mimetype": "text/x-python",
   "name": "python",
   "nbconvert_exporter": "python",
   "pygments_lexer": "ipython3",
   "version": "3.10.11"
  }
 },
 "nbformat": 4,
 "nbformat_minor": 4
}
