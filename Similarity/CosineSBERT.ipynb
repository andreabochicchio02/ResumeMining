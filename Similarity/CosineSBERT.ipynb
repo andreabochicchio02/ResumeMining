{
 "cells": [
  {
   "cell_type": "code",
   "execution_count": 1,
   "metadata": {},
   "outputs": [],
   "source": [
    "import pandas as pd\n",
    "import nltk\n",
    "import random\n",
    "from sklearn.metrics.pairwise import cosine_similarity\n",
    "from sentence_transformers import SentenceTransformer"
   ]
  },
  {
   "cell_type": "markdown",
   "metadata": {},
   "source": [
    "### Resume"
   ]
  },
  {
   "cell_type": "code",
   "execution_count": 3,
   "metadata": {
    "scrolled": true
   },
   "outputs": [
    {
     "data": {
      "text/html": [
       "<div>\n",
       "<style scoped>\n",
       "    .dataframe tbody tr th:only-of-type {\n",
       "        vertical-align: middle;\n",
       "    }\n",
       "\n",
       "    .dataframe tbody tr th {\n",
       "        vertical-align: top;\n",
       "    }\n",
       "\n",
       "    .dataframe thead th {\n",
       "        text-align: right;\n",
       "    }\n",
       "</style>\n",
       "<table border=\"1\" class=\"dataframe\">\n",
       "  <thead>\n",
       "    <tr style=\"text-align: right;\">\n",
       "      <th></th>\n",
       "      <th>ID</th>\n",
       "      <th>Resume_str</th>\n",
       "      <th>Category</th>\n",
       "    </tr>\n",
       "  </thead>\n",
       "  <tbody>\n",
       "    <tr>\n",
       "      <th>0</th>\n",
       "      <td>16852973</td>\n",
       "      <td>hr administrator marketing associate hr admini...</td>\n",
       "      <td>HR</td>\n",
       "    </tr>\n",
       "    <tr>\n",
       "      <th>1</th>\n",
       "      <td>22323967</td>\n",
       "      <td>hr specialist u hr operation summary versatile...</td>\n",
       "      <td>HR</td>\n",
       "    </tr>\n",
       "    <tr>\n",
       "      <th>2</th>\n",
       "      <td>33176873</td>\n",
       "      <td>hr director summary year experience recruiting...</td>\n",
       "      <td>HR</td>\n",
       "    </tr>\n",
       "    <tr>\n",
       "      <th>3</th>\n",
       "      <td>27018550</td>\n",
       "      <td>hr specialist summary dedicated driven dynamic...</td>\n",
       "      <td>HR</td>\n",
       "    </tr>\n",
       "    <tr>\n",
       "      <th>4</th>\n",
       "      <td>17812897</td>\n",
       "      <td>hr manager skill highlight hr skill hr departm...</td>\n",
       "      <td>HR</td>\n",
       "    </tr>\n",
       "  </tbody>\n",
       "</table>\n",
       "</div>"
      ],
      "text/plain": [
       "         ID                                         Resume_str Category\n",
       "0  16852973  hr administrator marketing associate hr admini...       HR\n",
       "1  22323967  hr specialist u hr operation summary versatile...       HR\n",
       "2  33176873  hr director summary year experience recruiting...       HR\n",
       "3  27018550  hr specialist summary dedicated driven dynamic...       HR\n",
       "4  17812897  hr manager skill highlight hr skill hr departm...       HR"
      ]
     },
     "execution_count": 3,
     "metadata": {},
     "output_type": "execute_result"
    }
   ],
   "source": [
    "df_resumes = pd.read_csv('../PreProcessing/processed_data/Resume_proc_lemm.csv')\n",
    "df_resumes.head()"
   ]
  },
  {
   "cell_type": "code",
   "execution_count": 4,
   "metadata": {},
   "outputs": [
    {
     "name": "stdout",
     "output_type": "stream",
     "text": [
      "<class 'pandas.core.frame.DataFrame'>\n",
      "RangeIndex: 2483 entries, 0 to 2482\n",
      "Data columns (total 3 columns):\n",
      " #   Column      Non-Null Count  Dtype \n",
      "---  ------      --------------  ----- \n",
      " 0   ID          2483 non-null   int64 \n",
      " 1   Resume_str  2483 non-null   object\n",
      " 2   Category    2483 non-null   object\n",
      "dtypes: int64(1), object(2)\n",
      "memory usage: 58.3+ KB\n"
     ]
    }
   ],
   "source": [
    "df_resumes.info()"
   ]
  },
  {
   "cell_type": "markdown",
   "metadata": {},
   "source": [
    "### Job Description"
   ]
  },
  {
   "cell_type": "code",
   "execution_count": 6,
   "metadata": {},
   "outputs": [
    {
     "data": {
      "text/html": [
       "<div>\n",
       "<style scoped>\n",
       "    .dataframe tbody tr th:only-of-type {\n",
       "        vertical-align: middle;\n",
       "    }\n",
       "\n",
       "    .dataframe tbody tr th {\n",
       "        vertical-align: top;\n",
       "    }\n",
       "\n",
       "    .dataframe thead th {\n",
       "        text-align: right;\n",
       "    }\n",
       "</style>\n",
       "<table border=\"1\" class=\"dataframe\">\n",
       "  <thead>\n",
       "    <tr style=\"text-align: right;\">\n",
       "      <th></th>\n",
       "      <th>job_id</th>\n",
       "      <th>title</th>\n",
       "      <th>description</th>\n",
       "      <th>skills_desc</th>\n",
       "    </tr>\n",
       "  </thead>\n",
       "  <tbody>\n",
       "    <tr>\n",
       "      <th>0</th>\n",
       "      <td>921716</td>\n",
       "      <td>Marketing Coordinator</td>\n",
       "      <td>job descriptiona leading real estate firm new ...</td>\n",
       "      <td>Requirements: \\n\\nWe are seeking a College or ...</td>\n",
       "    </tr>\n",
       "    <tr>\n",
       "      <th>1</th>\n",
       "      <td>1829192</td>\n",
       "      <td>Mental Health Therapist/Counselor</td>\n",
       "      <td>aspen therapy wellness committed serving clien...</td>\n",
       "      <td>NaN</td>\n",
       "    </tr>\n",
       "    <tr>\n",
       "      <th>2</th>\n",
       "      <td>10998357</td>\n",
       "      <td>Assitant Restaurant Manager</td>\n",
       "      <td>national exemplar accepting application assist...</td>\n",
       "      <td>We are currently accepting resumes for FOH - A...</td>\n",
       "    </tr>\n",
       "    <tr>\n",
       "      <th>3</th>\n",
       "      <td>23221523</td>\n",
       "      <td>Senior Elder Law / Trusts and Estates Associat...</td>\n",
       "      <td>senior associate attorney elder law trust esta...</td>\n",
       "      <td>This position requires a baseline understandin...</td>\n",
       "    </tr>\n",
       "    <tr>\n",
       "      <th>4</th>\n",
       "      <td>91700727</td>\n",
       "      <td>Economic Development and Planning Intern</td>\n",
       "      <td>job summary economic development planning inte...</td>\n",
       "      <td>NaN</td>\n",
       "    </tr>\n",
       "  </tbody>\n",
       "</table>\n",
       "</div>"
      ],
      "text/plain": [
       "     job_id                                              title  \\\n",
       "0    921716                              Marketing Coordinator   \n",
       "1   1829192                  Mental Health Therapist/Counselor   \n",
       "2  10998357                        Assitant Restaurant Manager   \n",
       "3  23221523  Senior Elder Law / Trusts and Estates Associat...   \n",
       "4  91700727           Economic Development and Planning Intern   \n",
       "\n",
       "                                         description  \\\n",
       "0  job descriptiona leading real estate firm new ...   \n",
       "1  aspen therapy wellness committed serving clien...   \n",
       "2  national exemplar accepting application assist...   \n",
       "3  senior associate attorney elder law trust esta...   \n",
       "4  job summary economic development planning inte...   \n",
       "\n",
       "                                         skills_desc  \n",
       "0  Requirements: \\n\\nWe are seeking a College or ...  \n",
       "1                                                NaN  \n",
       "2  We are currently accepting resumes for FOH - A...  \n",
       "3  This position requires a baseline understandin...  \n",
       "4                                                NaN  "
      ]
     },
     "execution_count": 6,
     "metadata": {},
     "output_type": "execute_result"
    }
   ],
   "source": [
    "df_jobs = pd.read_csv('../PreProcessing Jobs/processed_data/Job_proc_lemm.csv')\n",
    "df_jobs.head()"
   ]
  },
  {
   "cell_type": "code",
   "execution_count": 7,
   "metadata": {},
   "outputs": [
    {
     "name": "stdout",
     "output_type": "stream",
     "text": [
      "<class 'pandas.core.frame.DataFrame'>\n",
      "RangeIndex: 122545 entries, 0 to 122544\n",
      "Data columns (total 4 columns):\n",
      " #   Column       Non-Null Count   Dtype \n",
      "---  ------       --------------   ----- \n",
      " 0   job_id       122545 non-null  int64 \n",
      " 1   title        122545 non-null  object\n",
      " 2   description  122545 non-null  object\n",
      " 3   skills_desc  2409 non-null    object\n",
      "dtypes: int64(1), object(3)\n",
      "memory usage: 3.7+ MB\n"
     ]
    }
   ],
   "source": [
    "df_jobs.info()"
   ]
  },
  {
   "cell_type": "markdown",
   "metadata": {},
   "source": [
    "### Similarity"
   ]
  },
  {
   "cell_type": "code",
   "execution_count": 8,
   "metadata": {},
   "outputs": [],
   "source": [
    "# Conversione in un formato utile a BERT\n",
    "resumes = df_resumes[\"Resume_str\"].tolist()\n",
    "    \n",
    "cat = df_resumes[\"Category\"].astype(\"category\")\n",
    "labels = cat.cat.codes\n",
    "category_names = list(cat.cat.categories)"
   ]
  },
  {
   "cell_type": "code",
   "execution_count": 9,
   "metadata": {},
   "outputs": [
    {
     "data": {
      "application/vnd.jupyter.widget-view+json": {
       "model_id": "df5afc14e0d8482b9eedce94cb890d41",
       "version_major": 2,
       "version_minor": 0
      },
      "text/plain": [
       "modules.json:   0%|          | 0.00/349 [00:00<?, ?B/s]"
      ]
     },
     "metadata": {},
     "output_type": "display_data"
    },
    {
     "name": "stderr",
     "output_type": "stream",
     "text": [
      "c:\\Users\\andre\\anaconda3\\envs\\ResumeProject\\Lib\\site-packages\\huggingface_hub\\file_download.py:144: UserWarning: `huggingface_hub` cache-system uses symlinks by default to efficiently store duplicated files but your machine does not support them in C:\\Users\\andre\\.cache\\huggingface\\hub\\models--sentence-transformers--all-MiniLM-L12-v2. Caching files will still work but in a degraded version that might require more space on your disk. This warning can be disabled by setting the `HF_HUB_DISABLE_SYMLINKS_WARNING` environment variable. For more details, see https://huggingface.co/docs/huggingface_hub/how-to-cache#limitations.\n",
      "To support symlinks on Windows, you either need to activate Developer Mode or to run Python as an administrator. In order to activate developer mode, see this article: https://docs.microsoft.com/en-us/windows/apps/get-started/enable-your-device-for-development\n",
      "  warnings.warn(message)\n"
     ]
    },
    {
     "data": {
      "application/vnd.jupyter.widget-view+json": {
       "model_id": "090bb67684294176828e309a88d66bb2",
       "version_major": 2,
       "version_minor": 0
      },
      "text/plain": [
       "config_sentence_transformers.json:   0%|          | 0.00/116 [00:00<?, ?B/s]"
      ]
     },
     "metadata": {},
     "output_type": "display_data"
    },
    {
     "data": {
      "application/vnd.jupyter.widget-view+json": {
       "model_id": "50f066c4bae849139137de261bc8ba52",
       "version_major": 2,
       "version_minor": 0
      },
      "text/plain": [
       "README.md:   0%|          | 0.00/10.5k [00:00<?, ?B/s]"
      ]
     },
     "metadata": {},
     "output_type": "display_data"
    },
    {
     "data": {
      "application/vnd.jupyter.widget-view+json": {
       "model_id": "6789bd7e4c8a49728b32c87935dc295f",
       "version_major": 2,
       "version_minor": 0
      },
      "text/plain": [
       "sentence_bert_config.json:   0%|          | 0.00/53.0 [00:00<?, ?B/s]"
      ]
     },
     "metadata": {},
     "output_type": "display_data"
    },
    {
     "data": {
      "application/vnd.jupyter.widget-view+json": {
       "model_id": "46f170d188c74696921209e8178fefb2",
       "version_major": 2,
       "version_minor": 0
      },
      "text/plain": [
       "config.json:   0%|          | 0.00/615 [00:00<?, ?B/s]"
      ]
     },
     "metadata": {},
     "output_type": "display_data"
    },
    {
     "name": "stderr",
     "output_type": "stream",
     "text": [
      "Xet Storage is enabled for this repo, but the 'hf_xet' package is not installed. Falling back to regular HTTP download. For better performance, install the package with: `pip install huggingface_hub[hf_xet]` or `pip install hf_xet`\n"
     ]
    },
    {
     "data": {
      "application/vnd.jupyter.widget-view+json": {
       "model_id": "c80a510b14b64ef0925aeaa112db2e47",
       "version_major": 2,
       "version_minor": 0
      },
      "text/plain": [
       "model.safetensors:   0%|          | 0.00/133M [00:00<?, ?B/s]"
      ]
     },
     "metadata": {},
     "output_type": "display_data"
    },
    {
     "data": {
      "application/vnd.jupyter.widget-view+json": {
       "model_id": "1fc36a69c8f549eeb1aaf6ded22d5f55",
       "version_major": 2,
       "version_minor": 0
      },
      "text/plain": [
       "tokenizer_config.json:   0%|          | 0.00/352 [00:00<?, ?B/s]"
      ]
     },
     "metadata": {},
     "output_type": "display_data"
    },
    {
     "data": {
      "application/vnd.jupyter.widget-view+json": {
       "model_id": "946601c0ce3f477995d534097fd2e124",
       "version_major": 2,
       "version_minor": 0
      },
      "text/plain": [
       "vocab.txt:   0%|          | 0.00/232k [00:00<?, ?B/s]"
      ]
     },
     "metadata": {},
     "output_type": "display_data"
    },
    {
     "data": {
      "application/vnd.jupyter.widget-view+json": {
       "model_id": "562139425a094831a820eabdd9118bc9",
       "version_major": 2,
       "version_minor": 0
      },
      "text/plain": [
       "tokenizer.json:   0%|          | 0.00/466k [00:00<?, ?B/s]"
      ]
     },
     "metadata": {},
     "output_type": "display_data"
    },
    {
     "data": {
      "application/vnd.jupyter.widget-view+json": {
       "model_id": "a06d5a0f20b04232ac19610d4008408c",
       "version_major": 2,
       "version_minor": 0
      },
      "text/plain": [
       "special_tokens_map.json:   0%|          | 0.00/112 [00:00<?, ?B/s]"
      ]
     },
     "metadata": {},
     "output_type": "display_data"
    },
    {
     "data": {
      "application/vnd.jupyter.widget-view+json": {
       "model_id": "7f154894a5a84850bf5753ba73d15060",
       "version_major": 2,
       "version_minor": 0
      },
      "text/plain": [
       "config.json:   0%|          | 0.00/190 [00:00<?, ?B/s]"
      ]
     },
     "metadata": {},
     "output_type": "display_data"
    }
   ],
   "source": [
    "sbert_model = SentenceTransformer('all-MiniLM-L12-v2')"
   ]
  },
  {
   "cell_type": "code",
   "execution_count": 10,
   "metadata": {},
   "outputs": [
    {
     "data": {
      "application/vnd.jupyter.widget-view+json": {
       "model_id": "1ca7997bd3cc4750afe8432dce664b06",
       "version_major": 2,
       "version_minor": 0
      },
      "text/plain": [
       "Batches:   0%|          | 0/78 [00:00<?, ?it/s]"
      ]
     },
     "metadata": {},
     "output_type": "display_data"
    }
   ],
   "source": [
    "resumes_embed = sbert_model.encode(df_resumes['Resume_str'], show_progress_bar=True)"
   ]
  },
  {
   "cell_type": "markdown",
   "metadata": {},
   "source": [
    "### Test"
   ]
  },
  {
   "cell_type": "code",
   "execution_count": null,
   "metadata": {},
   "outputs": [],
   "source": [
    "#job_sample = df_jobs.sample(n=1).iloc[0]\n",
    "#job_desc = job_sample['description']"
   ]
  },
  {
   "cell_type": "code",
   "execution_count": 18,
   "metadata": {},
   "outputs": [],
   "source": [
    "job_sample = df_jobs[df_jobs['job_id'] == 3901356495].iloc[0] \n",
    "job_desc = job_sample['description']"
   ]
  },
  {
   "cell_type": "code",
   "execution_count": 19,
   "metadata": {},
   "outputs": [
    {
     "data": {
      "application/vnd.jupyter.widget-view+json": {
       "model_id": "5709f656875f402998869cde1a0a34a2",
       "version_major": 2,
       "version_minor": 0
      },
      "text/plain": [
       "Batches:   0%|          | 0/1 [00:00<?, ?it/s]"
      ]
     },
     "metadata": {},
     "output_type": "display_data"
    }
   ],
   "source": [
    "job_embed = sbert_model.encode([job_desc], show_progress_bar=True)"
   ]
  },
  {
   "cell_type": "code",
   "execution_count": 20,
   "metadata": {},
   "outputs": [],
   "source": [
    "similarity_vector = cosine_similarity(job_embed, resumes_embed).flatten()"
   ]
  },
  {
   "cell_type": "code",
   "execution_count": 21,
   "metadata": {},
   "outputs": [
    {
     "name": "stdout",
     "output_type": "stream",
     "text": [
      "[0.5511511  0.4935133  0.39638728 ... 0.5754805  0.6279856  0.42528796]\n"
     ]
    }
   ],
   "source": [
    "print(similarity_vector)"
   ]
  },
  {
   "cell_type": "code",
   "execution_count": 22,
   "metadata": {},
   "outputs": [
    {
     "data": {
      "text/html": [
       "<div>\n",
       "<style scoped>\n",
       "    .dataframe tbody tr th:only-of-type {\n",
       "        vertical-align: middle;\n",
       "    }\n",
       "\n",
       "    .dataframe tbody tr th {\n",
       "        vertical-align: top;\n",
       "    }\n",
       "\n",
       "    .dataframe thead th {\n",
       "        text-align: right;\n",
       "    }\n",
       "</style>\n",
       "<table border=\"1\" class=\"dataframe\">\n",
       "  <thead>\n",
       "    <tr style=\"text-align: right;\">\n",
       "      <th></th>\n",
       "      <th>job_id</th>\n",
       "      <th>job_title</th>\n",
       "      <th>cv_id</th>\n",
       "      <th>cv_category</th>\n",
       "      <th>similarity_score</th>\n",
       "      <th>rank</th>\n",
       "    </tr>\n",
       "  </thead>\n",
       "  <tbody>\n",
       "    <tr>\n",
       "      <th>0</th>\n",
       "      <td>3901356495</td>\n",
       "      <td>LINUX SYSTEM ADMINISTRATOR (CAOC)</td>\n",
       "      <td>44115326</td>\n",
       "      <td>ADVOCATE</td>\n",
       "      <td>0.732067</td>\n",
       "      <td>1</td>\n",
       "    </tr>\n",
       "    <tr>\n",
       "      <th>1</th>\n",
       "      <td>3901356495</td>\n",
       "      <td>LINUX SYSTEM ADMINISTRATOR (CAOC)</td>\n",
       "      <td>17025292</td>\n",
       "      <td>CONSULTANT</td>\n",
       "      <td>0.729244</td>\n",
       "      <td>2</td>\n",
       "    </tr>\n",
       "    <tr>\n",
       "      <th>2</th>\n",
       "      <td>3901356495</td>\n",
       "      <td>LINUX SYSTEM ADMINISTRATOR (CAOC)</td>\n",
       "      <td>63989974</td>\n",
       "      <td>AUTOMOBILE</td>\n",
       "      <td>0.712114</td>\n",
       "      <td>3</td>\n",
       "    </tr>\n",
       "    <tr>\n",
       "      <th>3</th>\n",
       "      <td>3901356495</td>\n",
       "      <td>LINUX SYSTEM ADMINISTRATOR (CAOC)</td>\n",
       "      <td>35389360</td>\n",
       "      <td>ENGINEERING</td>\n",
       "      <td>0.708131</td>\n",
       "      <td>4</td>\n",
       "    </tr>\n",
       "    <tr>\n",
       "      <th>4</th>\n",
       "      <td>3901356495</td>\n",
       "      <td>LINUX SYSTEM ADMINISTRATOR (CAOC)</td>\n",
       "      <td>22450718</td>\n",
       "      <td>INFORMATION-TECHNOLOGY</td>\n",
       "      <td>0.696777</td>\n",
       "      <td>5</td>\n",
       "    </tr>\n",
       "  </tbody>\n",
       "</table>\n",
       "</div>"
      ],
      "text/plain": [
       "       job_id                          job_title     cv_id  \\\n",
       "0  3901356495  LINUX SYSTEM ADMINISTRATOR (CAOC)  44115326   \n",
       "1  3901356495  LINUX SYSTEM ADMINISTRATOR (CAOC)  17025292   \n",
       "2  3901356495  LINUX SYSTEM ADMINISTRATOR (CAOC)  63989974   \n",
       "3  3901356495  LINUX SYSTEM ADMINISTRATOR (CAOC)  35389360   \n",
       "4  3901356495  LINUX SYSTEM ADMINISTRATOR (CAOC)  22450718   \n",
       "\n",
       "              cv_category  similarity_score  rank  \n",
       "0                ADVOCATE          0.732067     1  \n",
       "1              CONSULTANT          0.729244     2  \n",
       "2              AUTOMOBILE          0.712114     3  \n",
       "3             ENGINEERING          0.708131     4  \n",
       "4  INFORMATION-TECHNOLOGY          0.696777     5  "
      ]
     },
     "execution_count": 22,
     "metadata": {},
     "output_type": "execute_result"
    }
   ],
   "source": [
    "top_n = 5\n",
    "\n",
    "job_real_id = job_sample['job_id']\n",
    "job_title   = job_sample['title']\n",
    "\n",
    "\n",
    "top_matches = similarity_vector.argsort()[::-1][:top_n]\n",
    "\n",
    "results = []\n",
    "for rank, cv_idx in enumerate(top_matches, start=1):\n",
    "    cv_real_id   = df_resumes.iloc[cv_idx]['ID']\n",
    "    cv_category  = df_resumes.iloc[cv_idx]['Category']\n",
    "    score        = similarity_vector[cv_idx]\n",
    "    \n",
    "    results.append({\n",
    "        'job_id':           job_real_id,\n",
    "        'job_title':        job_title,\n",
    "        'cv_id':            cv_real_id,\n",
    "        'cv_category':      cv_category,\n",
    "        'similarity_score': score,\n",
    "        'rank':             rank\n",
    "    })\n",
    "\n",
    "df_matches = pd.DataFrame(results)\n",
    "df_matches\n"
   ]
  },
  {
   "cell_type": "code",
   "execution_count": 23,
   "metadata": {},
   "outputs": [
    {
     "data": {
      "text/plain": [
       "'mission support compute architecture operation center caoc quantum research provides program management network operation security operation technical support necessary advance service capability infrastructure technology responsibility quantum research intl quantum seeking linux administrator support team administrator standard linux system administration duty caoc huntsville al selected candidate perform standard linux system administration duty required maintain smooth operation multi user computer system consisting linux based application license server virtual machine shared service coordination network storage administrator required additional duty setting administrator service account maintaining system documentation tuning system performance installing system wide software allocate mass storage space developing monitoring policy standard allocation related use computing resource participating installation integration acceptance testing going maintenance system software environment assisting forecast resource limitation provide recommendation increasing efficiency resource proper scheduling load balancing technique support develop automation streamline standardize deployment maintenance task build maintain automation framework support overall system include customer onboarding offboarding standard maintenance patching user account administration using ansible develop knowledge maintain administer container based solution requirement bachelor degree least year experience additional experience may substituted degree dod certification security o cert linux redhat etc day waiver may provided obtain o certification willingness occasionally work hour respond emergency situation problem resolutiongeneral knowledge linux general unix operating system concept well system administration experienceability develop maintain documentation system administration procedure routine complex tasksability create maintain information assurance ia compliance documentation information systempreferred education experience skill experience compiling installing porting software experience storage device nfs storage protocol familiar multi factor authentication platform solution identity management openid ldap kerberos security implementation using multi factor authentication pki kerberos unix o hardening dod stig standard experience programming troubleshooting python codeexperience supporting apache web serverexperience ubuntu red hat enterprise linux distrosexperience red hat satellite red hat identity managerexperience bind dnsexperience ansibleexperience gitlabclearance requirement must able obtain maintain top secret must currently possess noneoverview quantum research international inc quantum provides national defense federal civilian industry customer service product following main area cybersecurity information operation space operation control aviation system ground air missile defense fire support system intelligence program support experimentation test program management audio visual technology application quantum corporate office located huntsville al quantum actively hire position nationwide internationally pride providing high quality support u government nation warfighters addition corporate office physical location aberdeen md colorado spring co crestview fl orlando fl tupelo msequal opportunity employer affirmative action employer f v qualified applicant receive consideration employment without regard race color religion sex national origin age disability veteran status genetic information sexual orientation gender identity characteristic protected law reasonable accommodation may made enable individual disability perform essential function'"
      ]
     },
     "execution_count": 23,
     "metadata": {},
     "output_type": "execute_result"
    }
   ],
   "source": [
    "job_sample['description']"
   ]
  }
 ],
 "metadata": {
  "kernelspec": {
   "display_name": "ResumeProject",
   "language": "python",
   "name": "python3"
  },
  "language_info": {
   "codemirror_mode": {
    "name": "ipython",
    "version": 3
   },
   "file_extension": ".py",
   "mimetype": "text/x-python",
   "name": "python",
   "nbconvert_exporter": "python",
   "pygments_lexer": "ipython3",
   "version": "3.11.11"
  }
 },
 "nbformat": 4,
 "nbformat_minor": 4
}
