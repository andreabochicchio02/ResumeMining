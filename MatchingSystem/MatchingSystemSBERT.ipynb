{
 "cells": [
  {
   "cell_type": "code",
   "execution_count": 3,
   "metadata": {},
   "outputs": [],
   "source": [
    "import pandas as pd\n",
    "from sklearn.metrics.pairwise import cosine_similarity\n",
    "from sentence_transformers import SentenceTransformer\n",
    "from sklearn.preprocessing import LabelEncoder\n",
    "import textwrap"
   ]
  },
  {
   "cell_type": "code",
   "execution_count": 4,
   "metadata": {
    "scrolled": true
   },
   "outputs": [
    {
     "data": {
      "text/html": [
       "<div>\n",
       "<style scoped>\n",
       "    .dataframe tbody tr th:only-of-type {\n",
       "        vertical-align: middle;\n",
       "    }\n",
       "\n",
       "    .dataframe tbody tr th {\n",
       "        vertical-align: top;\n",
       "    }\n",
       "\n",
       "    .dataframe thead th {\n",
       "        text-align: right;\n",
       "    }\n",
       "</style>\n",
       "<table border=\"1\" class=\"dataframe\">\n",
       "  <thead>\n",
       "    <tr style=\"text-align: right;\">\n",
       "      <th></th>\n",
       "      <th>ID</th>\n",
       "      <th>Resume_str</th>\n",
       "      <th>Category</th>\n",
       "    </tr>\n",
       "  </thead>\n",
       "  <tbody>\n",
       "    <tr>\n",
       "      <th>0</th>\n",
       "      <td>28111403</td>\n",
       "      <td>president chief executive officer executive pr...</td>\n",
       "      <td>INFORMATION-TECHNOLOGY</td>\n",
       "    </tr>\n",
       "    <tr>\n",
       "      <th>1</th>\n",
       "      <td>29908929</td>\n",
       "      <td>business development marketing summary busines...</td>\n",
       "      <td>BUSINESS-DEVELOPMENT</td>\n",
       "    </tr>\n",
       "    <tr>\n",
       "      <th>2</th>\n",
       "      <td>15261348</td>\n",
       "      <td>chef and restaurant manager summary chef with ...</td>\n",
       "      <td>CHEF</td>\n",
       "    </tr>\n",
       "    <tr>\n",
       "      <th>3</th>\n",
       "      <td>75435017</td>\n",
       "      <td>charge nurse professional summary objective to...</td>\n",
       "      <td>HEALTHCARE</td>\n",
       "    </tr>\n",
       "    <tr>\n",
       "      <th>4</th>\n",
       "      <td>41152404</td>\n",
       "      <td>test analyst intern contractor profile years o...</td>\n",
       "      <td>INFORMATION-TECHNOLOGY</td>\n",
       "    </tr>\n",
       "  </tbody>\n",
       "</table>\n",
       "</div>"
      ],
      "text/plain": [
       "         ID                                         Resume_str  \\\n",
       "0  28111403  president chief executive officer executive pr...   \n",
       "1  29908929  business development marketing summary busines...   \n",
       "2  15261348  chef and restaurant manager summary chef with ...   \n",
       "3  75435017  charge nurse professional summary objective to...   \n",
       "4  41152404  test analyst intern contractor profile years o...   \n",
       "\n",
       "                 Category  \n",
       "0  INFORMATION-TECHNOLOGY  \n",
       "1    BUSINESS-DEVELOPMENT  \n",
       "2                    CHEF  \n",
       "3              HEALTHCARE  \n",
       "4  INFORMATION-TECHNOLOGY  "
      ]
     },
     "execution_count": 4,
     "metadata": {},
     "output_type": "execute_result"
    }
   ],
   "source": [
    "df_resumes = pd.read_csv('../PreProcessingResumes/processed_data/Resumes.csv')\n",
    "df_resumes.head()"
   ]
  },
  {
   "cell_type": "code",
   "execution_count": 5,
   "metadata": {},
   "outputs": [
    {
     "name": "stdout",
     "output_type": "stream",
     "text": [
      "<class 'pandas.core.frame.DataFrame'>\n",
      "RangeIndex: 2483 entries, 0 to 2482\n",
      "Data columns (total 3 columns):\n",
      " #   Column      Non-Null Count  Dtype \n",
      "---  ------      --------------  ----- \n",
      " 0   ID          2483 non-null   int64 \n",
      " 1   Resume_str  2483 non-null   object\n",
      " 2   Category    2483 non-null   object\n",
      "dtypes: int64(1), object(2)\n",
      "memory usage: 58.3+ KB\n"
     ]
    }
   ],
   "source": [
    "df_resumes.info()"
   ]
  },
  {
   "cell_type": "code",
   "execution_count": 6,
   "metadata": {},
   "outputs": [
    {
     "data": {
      "text/html": [
       "<div>\n",
       "<style scoped>\n",
       "    .dataframe tbody tr th:only-of-type {\n",
       "        vertical-align: middle;\n",
       "    }\n",
       "\n",
       "    .dataframe tbody tr th {\n",
       "        vertical-align: top;\n",
       "    }\n",
       "\n",
       "    .dataframe thead th {\n",
       "        text-align: right;\n",
       "    }\n",
       "</style>\n",
       "<table border=\"1\" class=\"dataframe\">\n",
       "  <thead>\n",
       "    <tr style=\"text-align: right;\">\n",
       "      <th></th>\n",
       "      <th>job_id</th>\n",
       "      <th>title</th>\n",
       "      <th>description</th>\n",
       "    </tr>\n",
       "  </thead>\n",
       "  <tbody>\n",
       "    <tr>\n",
       "      <th>0</th>\n",
       "      <td>921716</td>\n",
       "      <td>Marketing Coordinator</td>\n",
       "      <td>job descriptiona leading real estate firm in n...</td>\n",
       "    </tr>\n",
       "    <tr>\n",
       "      <th>1</th>\n",
       "      <td>1829192</td>\n",
       "      <td>Mental Health Therapist/Counselor</td>\n",
       "      <td>at aspen therapy and wellness we are committed...</td>\n",
       "    </tr>\n",
       "    <tr>\n",
       "      <th>2</th>\n",
       "      <td>10998357</td>\n",
       "      <td>Assitant Restaurant Manager</td>\n",
       "      <td>the national exemplar is accepting application...</td>\n",
       "    </tr>\n",
       "    <tr>\n",
       "      <th>3</th>\n",
       "      <td>23221523</td>\n",
       "      <td>Senior Elder Law / Trusts and Estates Associat...</td>\n",
       "      <td>senior associate attorney elder law trusts and...</td>\n",
       "    </tr>\n",
       "    <tr>\n",
       "      <th>4</th>\n",
       "      <td>91700727</td>\n",
       "      <td>Economic Development and Planning Intern</td>\n",
       "      <td>job summary the economic development planning ...</td>\n",
       "    </tr>\n",
       "  </tbody>\n",
       "</table>\n",
       "</div>"
      ],
      "text/plain": [
       "     job_id                                              title  \\\n",
       "0    921716                              Marketing Coordinator   \n",
       "1   1829192                  Mental Health Therapist/Counselor   \n",
       "2  10998357                        Assitant Restaurant Manager   \n",
       "3  23221523  Senior Elder Law / Trusts and Estates Associat...   \n",
       "4  91700727           Economic Development and Planning Intern   \n",
       "\n",
       "                                         description  \n",
       "0  job descriptiona leading real estate firm in n...  \n",
       "1  at aspen therapy and wellness we are committed...  \n",
       "2  the national exemplar is accepting application...  \n",
       "3  senior associate attorney elder law trusts and...  \n",
       "4  job summary the economic development planning ...  "
      ]
     },
     "execution_count": 6,
     "metadata": {},
     "output_type": "execute_result"
    }
   ],
   "source": [
    "df_jobs = pd.read_csv('../PreProcessingJobs/processed_data/JobDescription.csv')\n",
    "df_jobs.head()"
   ]
  },
  {
   "cell_type": "code",
   "execution_count": 7,
   "metadata": {},
   "outputs": [
    {
     "name": "stdout",
     "output_type": "stream",
     "text": [
      "<class 'pandas.core.frame.DataFrame'>\n",
      "RangeIndex: 122545 entries, 0 to 122544\n",
      "Data columns (total 3 columns):\n",
      " #   Column       Non-Null Count   Dtype \n",
      "---  ------       --------------   ----- \n",
      " 0   job_id       122545 non-null  int64 \n",
      " 1   title        122545 non-null  object\n",
      " 2   description  122545 non-null  object\n",
      "dtypes: int64(1), object(2)\n",
      "memory usage: 2.8+ MB\n"
     ]
    }
   ],
   "source": [
    "df_jobs.info()"
   ]
  },
  {
   "cell_type": "markdown",
   "metadata": {},
   "source": [
    "### Resume & Job Description Matching System"
   ]
  },
  {
   "cell_type": "code",
   "execution_count": 8,
   "metadata": {},
   "outputs": [],
   "source": [
    "# Convert resumes column to a list\n",
    "resumes = df_resumes[\"Resume_str\"].tolist()\n",
    "    \n",
    "# Encode category labels as integers\n",
    "encoder = LabelEncoder()\n",
    "labels = encoder.fit_transform(df_resumes[\"Category\"])"
   ]
  },
  {
   "cell_type": "code",
   "execution_count": 9,
   "metadata": {},
   "outputs": [],
   "source": [
    "# Load the SBERT model for generating sentence embeddings\n",
    "sbert_model = SentenceTransformer('all-MiniLM-L12-v2')"
   ]
  },
  {
   "cell_type": "code",
   "execution_count": 10,
   "metadata": {},
   "outputs": [
    {
     "data": {
      "application/vnd.jupyter.widget-view+json": {
       "model_id": "6a78b419b16d455f8bea28d1aae061d8",
       "version_major": 2,
       "version_minor": 0
      },
      "text/plain": [
       "Batches:   0%|          | 0/78 [00:00<?, ?it/s]"
      ]
     },
     "metadata": {},
     "output_type": "display_data"
    }
   ],
   "source": [
    "resumes_embed = sbert_model.encode(resumes, show_progress_bar=True)"
   ]
  },
  {
   "cell_type": "markdown",
   "metadata": {},
   "source": [
    "### Test"
   ]
  },
  {
   "cell_type": "code",
   "execution_count": null,
   "metadata": {},
   "outputs": [],
   "source": [
    "# Uncomment this block to select random job posting\n",
    "\n",
    "# Select a random job posting from the DataFrame\n",
    "#job_sample = df_jobs.sample(n=1).iloc[0]\n",
    "\n",
    "#job_desc = job_sample['description']"
   ]
  },
  {
   "cell_type": "code",
   "execution_count": null,
   "metadata": {},
   "outputs": [],
   "source": [
    "# Uncomment this block to select a specific job posting by job_id\n",
    "\n",
    "# Select the job with the given job_id\n",
    "job_sample = df_jobs[df_jobs['job_id'] == 3895205640].iloc[0]  \n",
    "\n",
    "job_desc = job_sample['description']  "
   ]
  },
  {
   "cell_type": "code",
   "execution_count": 24,
   "metadata": {},
   "outputs": [
    {
     "data": {
      "application/vnd.jupyter.widget-view+json": {
       "model_id": "b43cbdafa6b6467ca69701d8ab0fdb91",
       "version_major": 2,
       "version_minor": 0
      },
      "text/plain": [
       "Batches:   0%|          | 0/1 [00:00<?, ?it/s]"
      ]
     },
     "metadata": {},
     "output_type": "display_data"
    }
   ],
   "source": [
    "# Generate the embedding for the job description using the sentence-transformers model\n",
    "job_embed = sbert_model.encode([job_desc], show_progress_bar=True)"
   ]
  },
  {
   "cell_type": "code",
   "execution_count": 25,
   "metadata": {},
   "outputs": [],
   "source": [
    "# Compute cosine similarity between the job description and each resume, returning a flat array of similarity scores\n",
    "similarity_vector = cosine_similarity(job_embed, resumes_embed).flatten()"
   ]
  },
  {
   "cell_type": "code",
   "execution_count": 26,
   "metadata": {},
   "outputs": [
    {
     "data": {
      "text/html": [
       "<div>\n",
       "<style scoped>\n",
       "    .dataframe tbody tr th:only-of-type {\n",
       "        vertical-align: middle;\n",
       "    }\n",
       "\n",
       "    .dataframe tbody tr th {\n",
       "        vertical-align: top;\n",
       "    }\n",
       "\n",
       "    .dataframe thead th {\n",
       "        text-align: right;\n",
       "    }\n",
       "</style>\n",
       "<table border=\"1\" class=\"dataframe\">\n",
       "  <thead>\n",
       "    <tr style=\"text-align: right;\">\n",
       "      <th></th>\n",
       "      <th>rank</th>\n",
       "      <th>job_id</th>\n",
       "      <th>job_title</th>\n",
       "      <th>cv_id</th>\n",
       "      <th>cv_category</th>\n",
       "      <th>similarity_score</th>\n",
       "    </tr>\n",
       "  </thead>\n",
       "  <tbody>\n",
       "    <tr>\n",
       "      <th>0</th>\n",
       "      <td>1</td>\n",
       "      <td>3895205640</td>\n",
       "      <td>VP, Business Development</td>\n",
       "      <td>27375577</td>\n",
       "      <td>BUSINESS-DEVELOPMENT</td>\n",
       "      <td>0.664728</td>\n",
       "    </tr>\n",
       "    <tr>\n",
       "      <th>1</th>\n",
       "      <td>2</td>\n",
       "      <td>3895205640</td>\n",
       "      <td>VP, Business Development</td>\n",
       "      <td>15233524</td>\n",
       "      <td>BUSINESS-DEVELOPMENT</td>\n",
       "      <td>0.659889</td>\n",
       "    </tr>\n",
       "    <tr>\n",
       "      <th>2</th>\n",
       "      <td>3</td>\n",
       "      <td>3895205640</td>\n",
       "      <td>VP, Business Development</td>\n",
       "      <td>38688388</td>\n",
       "      <td>BUSINESS-DEVELOPMENT</td>\n",
       "      <td>0.656770</td>\n",
       "    </tr>\n",
       "    <tr>\n",
       "      <th>3</th>\n",
       "      <td>4</td>\n",
       "      <td>3895205640</td>\n",
       "      <td>VP, Business Development</td>\n",
       "      <td>24647386</td>\n",
       "      <td>BUSINESS-DEVELOPMENT</td>\n",
       "      <td>0.641772</td>\n",
       "    </tr>\n",
       "    <tr>\n",
       "      <th>4</th>\n",
       "      <td>5</td>\n",
       "      <td>3895205640</td>\n",
       "      <td>VP, Business Development</td>\n",
       "      <td>59696315</td>\n",
       "      <td>BUSINESS-DEVELOPMENT</td>\n",
       "      <td>0.639877</td>\n",
       "    </tr>\n",
       "  </tbody>\n",
       "</table>\n",
       "</div>"
      ],
      "text/plain": [
       "   rank      job_id                  job_title     cv_id  \\\n",
       "0     1  3895205640  VP, Business Development   27375577   \n",
       "1     2  3895205640  VP, Business Development   15233524   \n",
       "2     3  3895205640  VP, Business Development   38688388   \n",
       "3     4  3895205640  VP, Business Development   24647386   \n",
       "4     5  3895205640  VP, Business Development   59696315   \n",
       "\n",
       "            cv_category  similarity_score  \n",
       "0  BUSINESS-DEVELOPMENT          0.664728  \n",
       "1  BUSINESS-DEVELOPMENT          0.659889  \n",
       "2  BUSINESS-DEVELOPMENT          0.656770  \n",
       "3  BUSINESS-DEVELOPMENT          0.641772  \n",
       "4  BUSINESS-DEVELOPMENT          0.639877  "
      ]
     },
     "execution_count": 26,
     "metadata": {},
     "output_type": "execute_result"
    }
   ],
   "source": [
    "top_n = 5  # Number of top matches to retrieve\n",
    "\n",
    "# Get indices of top_n resumes with highest similarity scores\n",
    "top_matches = similarity_vector.argsort()[::-1][:top_n]\n",
    "\n",
    "results = []\n",
    "for rank, cv_idx in enumerate(top_matches, start=1):\n",
    "    results.append({\n",
    "        'rank':             rank,\n",
    "        'job_id':           job_sample['job_id'],\n",
    "        'job_title':        job_sample['title'],\n",
    "        'cv_id':            df_resumes.iloc[cv_idx]['ID'],      \n",
    "        'cv_category':      df_resumes.iloc[cv_idx]['Category'],\n",
    "        'similarity_score': similarity_vector[cv_idx] \n",
    "    })\n",
    "\n",
    "df_matches = pd.DataFrame(results)\n",
    "df_matches"
   ]
  },
  {
   "cell_type": "code",
   "execution_count": 27,
   "metadata": {},
   "outputs": [
    {
     "name": "stdout",
     "output_type": "stream",
     "text": [
      "long term growth leads to business success and here at phaedon we welcome prospective team members who can help push our vision forward we\n",
      "re currently searching for an experienced vp of business development who can partner with multiple departments to drive measurable results\n",
      "to grow our business our ideal candidate will be able to implement an effective sales approach that expands our reach builds our pipeline\n",
      "and strengthens prospect relationships they will actively seek out business opportunities that can boost revenue and set our company apart\n",
      "position summary phaedon is seeking a vp business development to work within a strong and innovative team environment on our loyalty team\n",
      "this position requires loyalty sales and business development experience with building and proactively managing new business non organic\n",
      "pipelines and negotiating and closing opportunities mission we help our clients simplify complex milestones and ignite brand love bringing\n",
      "intelligent imagination to solve your biggest business and brand challenges role objective develop execute and oversee a sales strategy that\n",
      "prioritizes growth build and maintain professional relationships with prospects resulting in growing the sales pipeline monitor and report\n",
      "on sales progress to ensure that corporate goals are being met primary skillsproven record of new logo sales growthstrong knowledge of\n",
      "business and sales growth strategies and techniquesexperience with businesses development in the loyalty and crm space including technology\n",
      "strategy and analytics familiarity with loyalty systems strong project management and communication skills in both verbal and written at all\n",
      "levels of an organization clear verbal and written communication skillsenthusiasm for the company and our growth potential demonstrated\n",
      "understanding of the sales process sales strategies and the steps involved to develop a healthy sales pipeline and the business development\n",
      "processes of moving prospects through the sales funnel towards closed won to grow company revenue responsibilities promote the company s\n",
      "loyalty and crm product and services interact with prospective clients to create and or responds to inquiries about our loyalty solutions\n",
      "work with sme marketing and contracts teams to write proposals and or rfp responses track the prospects throughout the sales process and\n",
      "keep the pipeline and other crm related activities recorded and up to date keeping the evp and other stakeholders notified throughout the\n",
      "process maintaining sales process timeframes revenue estimates and status reports working with marketing smes and other relevant loyalty\n",
      "team members to respond to marketing leads rfps and prospects developed by the vp of bd building and implementing sales strategies that\n",
      "deliver pipeline prospect revenue and other sales goals using pipeline management tool to track process and performance education minimum\n",
      "qualifications bachelor s degree in business marketing communications technology or closely related years experience in proactive complex\n",
      "sales and pipeline building with strong communications skills excellent networking organizational and problem solving skills the statements\n",
      "contained in this job description reflect general details as necessary to describe the principal functions of this job the level of\n",
      "knowledge and skill typically required and the scope of responsibility it should not be considered an all inclusive listing of work\n",
      "requirements individuals may perform other duties as assigned including work in other functional areas to cover absences to equalize peak\n",
      "work periods or to otherwise balance organizational workload\n"
     ]
    }
   ],
   "source": [
    "description = job_sample['description']\n",
    "print(\"\\n\".join(textwrap.wrap(description, width=140)))"
   ]
  }
 ],
 "metadata": {
  "kernelspec": {
   "display_name": "ResumeProject",
   "language": "python",
   "name": "python3"
  },
  "language_info": {
   "codemirror_mode": {
    "name": "ipython",
    "version": 3
   },
   "file_extension": ".py",
   "mimetype": "text/x-python",
   "name": "python",
   "nbconvert_exporter": "python",
   "pygments_lexer": "ipython3",
   "version": "3.11.11"
  }
 },
 "nbformat": 4,
 "nbformat_minor": 4
}
