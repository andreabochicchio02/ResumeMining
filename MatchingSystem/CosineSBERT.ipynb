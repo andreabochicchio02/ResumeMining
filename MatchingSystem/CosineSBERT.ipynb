{
 "cells": [
  {
   "cell_type": "code",
   "execution_count": 15,
   "metadata": {},
   "outputs": [],
   "source": [
    "import pandas as pd\n",
    "from sklearn.metrics.pairwise import cosine_similarity\n",
    "from sentence_transformers import SentenceTransformer\n",
    "from sklearn.preprocessing import LabelEncoder\n",
    "import textwrap"
   ]
  },
  {
   "cell_type": "code",
   "execution_count": 16,
   "metadata": {
    "scrolled": true
   },
   "outputs": [
    {
     "data": {
      "text/html": [
       "<div>\n",
       "<style scoped>\n",
       "    .dataframe tbody tr th:only-of-type {\n",
       "        vertical-align: middle;\n",
       "    }\n",
       "\n",
       "    .dataframe tbody tr th {\n",
       "        vertical-align: top;\n",
       "    }\n",
       "\n",
       "    .dataframe thead th {\n",
       "        text-align: right;\n",
       "    }\n",
       "</style>\n",
       "<table border=\"1\" class=\"dataframe\">\n",
       "  <thead>\n",
       "    <tr style=\"text-align: right;\">\n",
       "      <th></th>\n",
       "      <th>ID</th>\n",
       "      <th>Resume_str</th>\n",
       "      <th>Category</th>\n",
       "    </tr>\n",
       "  </thead>\n",
       "  <tbody>\n",
       "    <tr>\n",
       "      <th>0</th>\n",
       "      <td>16852973</td>\n",
       "      <td>hr administrator marketing associate hr admini...</td>\n",
       "      <td>HR</td>\n",
       "    </tr>\n",
       "    <tr>\n",
       "      <th>1</th>\n",
       "      <td>22323967</td>\n",
       "      <td>hr specialist us hr operations summary versati...</td>\n",
       "      <td>HR</td>\n",
       "    </tr>\n",
       "    <tr>\n",
       "      <th>2</th>\n",
       "      <td>33176873</td>\n",
       "      <td>hr director summary over years experience in r...</td>\n",
       "      <td>HR</td>\n",
       "    </tr>\n",
       "    <tr>\n",
       "      <th>3</th>\n",
       "      <td>27018550</td>\n",
       "      <td>hr specialist summary dedicated driven and dyn...</td>\n",
       "      <td>HR</td>\n",
       "    </tr>\n",
       "    <tr>\n",
       "      <th>4</th>\n",
       "      <td>17812897</td>\n",
       "      <td>hr manager skill highlights hr skills hr depar...</td>\n",
       "      <td>HR</td>\n",
       "    </tr>\n",
       "  </tbody>\n",
       "</table>\n",
       "</div>"
      ],
      "text/plain": [
       "         ID                                         Resume_str Category\n",
       "0  16852973  hr administrator marketing associate hr admini...       HR\n",
       "1  22323967  hr specialist us hr operations summary versati...       HR\n",
       "2  33176873  hr director summary over years experience in r...       HR\n",
       "3  27018550  hr specialist summary dedicated driven and dyn...       HR\n",
       "4  17812897  hr manager skill highlights hr skills hr depar...       HR"
      ]
     },
     "execution_count": 16,
     "metadata": {},
     "output_type": "execute_result"
    }
   ],
   "source": [
    "df_resumes = pd.read_csv('../PreProcessingResumes/processed_data/Resume.csv')\n",
    "df_resumes.head()"
   ]
  },
  {
   "cell_type": "code",
   "execution_count": 17,
   "metadata": {},
   "outputs": [
    {
     "name": "stdout",
     "output_type": "stream",
     "text": [
      "<class 'pandas.core.frame.DataFrame'>\n",
      "RangeIndex: 2483 entries, 0 to 2482\n",
      "Data columns (total 3 columns):\n",
      " #   Column      Non-Null Count  Dtype \n",
      "---  ------      --------------  ----- \n",
      " 0   ID          2483 non-null   int64 \n",
      " 1   Resume_str  2483 non-null   object\n",
      " 2   Category    2483 non-null   object\n",
      "dtypes: int64(1), object(2)\n",
      "memory usage: 58.3+ KB\n"
     ]
    }
   ],
   "source": [
    "df_resumes.info()"
   ]
  },
  {
   "cell_type": "code",
   "execution_count": 18,
   "metadata": {},
   "outputs": [
    {
     "data": {
      "text/html": [
       "<div>\n",
       "<style scoped>\n",
       "    .dataframe tbody tr th:only-of-type {\n",
       "        vertical-align: middle;\n",
       "    }\n",
       "\n",
       "    .dataframe tbody tr th {\n",
       "        vertical-align: top;\n",
       "    }\n",
       "\n",
       "    .dataframe thead th {\n",
       "        text-align: right;\n",
       "    }\n",
       "</style>\n",
       "<table border=\"1\" class=\"dataframe\">\n",
       "  <thead>\n",
       "    <tr style=\"text-align: right;\">\n",
       "      <th></th>\n",
       "      <th>job_id</th>\n",
       "      <th>title</th>\n",
       "      <th>description</th>\n",
       "    </tr>\n",
       "  </thead>\n",
       "  <tbody>\n",
       "    <tr>\n",
       "      <th>0</th>\n",
       "      <td>921716</td>\n",
       "      <td>Marketing Coordinator</td>\n",
       "      <td>job descriptiona leading real estate firm in n...</td>\n",
       "    </tr>\n",
       "    <tr>\n",
       "      <th>1</th>\n",
       "      <td>1829192</td>\n",
       "      <td>Mental Health Therapist/Counselor</td>\n",
       "      <td>at aspen therapy and wellness we are committed...</td>\n",
       "    </tr>\n",
       "    <tr>\n",
       "      <th>2</th>\n",
       "      <td>10998357</td>\n",
       "      <td>Assitant Restaurant Manager</td>\n",
       "      <td>the national exemplar is accepting application...</td>\n",
       "    </tr>\n",
       "    <tr>\n",
       "      <th>3</th>\n",
       "      <td>23221523</td>\n",
       "      <td>Senior Elder Law / Trusts and Estates Associat...</td>\n",
       "      <td>senior associate attorney elder law trusts and...</td>\n",
       "    </tr>\n",
       "    <tr>\n",
       "      <th>4</th>\n",
       "      <td>91700727</td>\n",
       "      <td>Economic Development and Planning Intern</td>\n",
       "      <td>job summary the economic development planning ...</td>\n",
       "    </tr>\n",
       "  </tbody>\n",
       "</table>\n",
       "</div>"
      ],
      "text/plain": [
       "     job_id                                              title  \\\n",
       "0    921716                              Marketing Coordinator   \n",
       "1   1829192                  Mental Health Therapist/Counselor   \n",
       "2  10998357                        Assitant Restaurant Manager   \n",
       "3  23221523  Senior Elder Law / Trusts and Estates Associat...   \n",
       "4  91700727           Economic Development and Planning Intern   \n",
       "\n",
       "                                         description  \n",
       "0  job descriptiona leading real estate firm in n...  \n",
       "1  at aspen therapy and wellness we are committed...  \n",
       "2  the national exemplar is accepting application...  \n",
       "3  senior associate attorney elder law trusts and...  \n",
       "4  job summary the economic development planning ...  "
      ]
     },
     "execution_count": 18,
     "metadata": {},
     "output_type": "execute_result"
    }
   ],
   "source": [
    "df_jobs = pd.read_csv('../PreProcessingJobs/processed_data/JobDescription.csv')\n",
    "df_jobs.head()"
   ]
  },
  {
   "cell_type": "code",
   "execution_count": 19,
   "metadata": {},
   "outputs": [
    {
     "name": "stdout",
     "output_type": "stream",
     "text": [
      "<class 'pandas.core.frame.DataFrame'>\n",
      "RangeIndex: 122545 entries, 0 to 122544\n",
      "Data columns (total 3 columns):\n",
      " #   Column       Non-Null Count   Dtype \n",
      "---  ------       --------------   ----- \n",
      " 0   job_id       122545 non-null  int64 \n",
      " 1   title        122545 non-null  object\n",
      " 2   description  122545 non-null  object\n",
      "dtypes: int64(1), object(2)\n",
      "memory usage: 2.8+ MB\n"
     ]
    }
   ],
   "source": [
    "df_jobs.info()"
   ]
  },
  {
   "cell_type": "markdown",
   "metadata": {},
   "source": [
    "### Resume & Job Description Matching System"
   ]
  },
  {
   "cell_type": "code",
   "execution_count": 20,
   "metadata": {},
   "outputs": [],
   "source": [
    "# Convert resumes column to a list\n",
    "resumes = df_resumes[\"Resume_str\"].tolist()\n",
    "    \n",
    "# Encode category labels as integers\n",
    "encoder = LabelEncoder()\n",
    "labels = encoder.fit_transform(df_resumes[\"Category\"])\n",
    "category_names = encoder.classes_.tolist()"
   ]
  },
  {
   "cell_type": "code",
   "execution_count": 21,
   "metadata": {},
   "outputs": [],
   "source": [
    "# Load the SBERT model for generating sentence embeddings\n",
    "sbert_model = SentenceTransformer('all-MiniLM-L12-v2')"
   ]
  },
  {
   "cell_type": "code",
   "execution_count": 22,
   "metadata": {},
   "outputs": [
    {
     "data": {
      "application/vnd.jupyter.widget-view+json": {
       "model_id": "36e6e6df21fb4a68b92a7414e4c7b6d6",
       "version_major": 2,
       "version_minor": 0
      },
      "text/plain": [
       "Batches:   0%|          | 0/78 [00:00<?, ?it/s]"
      ]
     },
     "metadata": {},
     "output_type": "display_data"
    }
   ],
   "source": [
    "resumes_embed = sbert_model.encode(resumes, show_progress_bar=True)"
   ]
  },
  {
   "cell_type": "markdown",
   "metadata": {},
   "source": [
    "### Test"
   ]
  },
  {
   "cell_type": "code",
   "execution_count": 23,
   "metadata": {},
   "outputs": [],
   "source": [
    "# Select a random job posting from the DataFrame\n",
    "job_sample = df_jobs.sample(n=1).iloc[0]\n",
    "\n",
    "job_desc = job_sample['description']"
   ]
  },
  {
   "cell_type": "code",
   "execution_count": 24,
   "metadata": {},
   "outputs": [],
   "source": [
    "# Uncomment this block to select a specific job posting by job_id\n",
    "\n",
    "# Select the job with the given job_id\n",
    "# job_sample = df_jobs[df_jobs['job_id'] == 3901356495].iloc[0]  \n",
    "\n",
    "# job_desc = job_sample['description']  "
   ]
  },
  {
   "cell_type": "code",
   "execution_count": 25,
   "metadata": {},
   "outputs": [
    {
     "data": {
      "application/vnd.jupyter.widget-view+json": {
       "model_id": "e4655388b9d94ae791760c13ed803cdf",
       "version_major": 2,
       "version_minor": 0
      },
      "text/plain": [
       "Batches:   0%|          | 0/1 [00:00<?, ?it/s]"
      ]
     },
     "metadata": {},
     "output_type": "display_data"
    }
   ],
   "source": [
    "# Generate the embedding for the job description using the sentence-transformers model\n",
    "job_embed = sbert_model.encode([job_desc], show_progress_bar=True)"
   ]
  },
  {
   "cell_type": "code",
   "execution_count": 26,
   "metadata": {},
   "outputs": [],
   "source": [
    "# Compute cosine similarity between the job description and each resume, returning a flat array of similarity scores\n",
    "similarity_vector = cosine_similarity(job_embed, resumes_embed).flatten()"
   ]
  },
  {
   "cell_type": "code",
   "execution_count": 27,
   "metadata": {},
   "outputs": [
    {
     "data": {
      "text/html": [
       "<div>\n",
       "<style scoped>\n",
       "    .dataframe tbody tr th:only-of-type {\n",
       "        vertical-align: middle;\n",
       "    }\n",
       "\n",
       "    .dataframe tbody tr th {\n",
       "        vertical-align: top;\n",
       "    }\n",
       "\n",
       "    .dataframe thead th {\n",
       "        text-align: right;\n",
       "    }\n",
       "</style>\n",
       "<table border=\"1\" class=\"dataframe\">\n",
       "  <thead>\n",
       "    <tr style=\"text-align: right;\">\n",
       "      <th></th>\n",
       "      <th>rank</th>\n",
       "      <th>job_id</th>\n",
       "      <th>job_title</th>\n",
       "      <th>cv_id</th>\n",
       "      <th>cv_category</th>\n",
       "      <th>similarity_score</th>\n",
       "    </tr>\n",
       "  </thead>\n",
       "  <tbody>\n",
       "    <tr>\n",
       "      <th>0</th>\n",
       "      <td>1</td>\n",
       "      <td>3898178264</td>\n",
       "      <td>Data Protection Senior Associate</td>\n",
       "      <td>85766635</td>\n",
       "      <td>HR</td>\n",
       "      <td>0.557325</td>\n",
       "    </tr>\n",
       "    <tr>\n",
       "      <th>1</th>\n",
       "      <td>2</td>\n",
       "      <td>3898178264</td>\n",
       "      <td>Data Protection Senior Associate</td>\n",
       "      <td>84512719</td>\n",
       "      <td>BUSINESS-DEVELOPMENT</td>\n",
       "      <td>0.542097</td>\n",
       "    </tr>\n",
       "    <tr>\n",
       "      <th>2</th>\n",
       "      <td>3</td>\n",
       "      <td>3898178264</td>\n",
       "      <td>Data Protection Senior Associate</td>\n",
       "      <td>35325329</td>\n",
       "      <td>INFORMATION-TECHNOLOGY</td>\n",
       "      <td>0.530056</td>\n",
       "    </tr>\n",
       "    <tr>\n",
       "      <th>3</th>\n",
       "      <td>4</td>\n",
       "      <td>3898178264</td>\n",
       "      <td>Data Protection Senior Associate</td>\n",
       "      <td>18072085</td>\n",
       "      <td>ACCOUNTANT</td>\n",
       "      <td>0.525723</td>\n",
       "    </tr>\n",
       "    <tr>\n",
       "      <th>4</th>\n",
       "      <td>5</td>\n",
       "      <td>3898178264</td>\n",
       "      <td>Data Protection Senior Associate</td>\n",
       "      <td>13115648</td>\n",
       "      <td>TEACHER</td>\n",
       "      <td>0.519477</td>\n",
       "    </tr>\n",
       "  </tbody>\n",
       "</table>\n",
       "</div>"
      ],
      "text/plain": [
       "   rank      job_id                         job_title     cv_id  \\\n",
       "0     1  3898178264  Data Protection Senior Associate  85766635   \n",
       "1     2  3898178264  Data Protection Senior Associate  84512719   \n",
       "2     3  3898178264  Data Protection Senior Associate  35325329   \n",
       "3     4  3898178264  Data Protection Senior Associate  18072085   \n",
       "4     5  3898178264  Data Protection Senior Associate  13115648   \n",
       "\n",
       "              cv_category  similarity_score  \n",
       "0                      HR          0.557325  \n",
       "1    BUSINESS-DEVELOPMENT          0.542097  \n",
       "2  INFORMATION-TECHNOLOGY          0.530056  \n",
       "3              ACCOUNTANT          0.525723  \n",
       "4                 TEACHER          0.519477  "
      ]
     },
     "execution_count": 27,
     "metadata": {},
     "output_type": "execute_result"
    }
   ],
   "source": [
    "top_n = 5  # Number of top matches to retrieve\n",
    "\n",
    "# Get indices of top_n resumes with highest similarity scores\n",
    "top_matches = similarity_vector.argsort()[::-1][:top_n]\n",
    "\n",
    "results = []\n",
    "for rank, cv_idx in enumerate(top_matches, start=1):\n",
    "    results.append({\n",
    "        'rank':             rank,\n",
    "        'job_id':           job_sample['job_id'],\n",
    "        'job_title':        job_sample['title'],\n",
    "        'cv_id':            df_resumes.iloc[cv_idx]['ID'],      \n",
    "        'cv_category':      df_resumes.iloc[cv_idx]['Category'],\n",
    "        'similarity_score': similarity_vector[cv_idx] \n",
    "    })\n",
    "\n",
    "df_matches = pd.DataFrame(results)\n",
    "df_matches"
   ]
  },
  {
   "cell_type": "code",
   "execution_count": 28,
   "metadata": {},
   "outputs": [
    {
     "name": "stdout",
     "output_type": "stream",
     "text": [
      "ey focuses on high ethical standards and integrity among its employees and expects all candidates to demonstrate these qualities at ey you\n",
      "ll have the chance to build a career as unique as you are with the global scale support inclusive culture and technology to become the best\n",
      "version of you and we re counting on your unique voice and perspective to help ey become even better too join us and build an exceptional\n",
      "experience for yourself and a better working world for all location flexible anywhere in the us data protection and privacy senior associate\n",
      "ethics compliance and risk management ecrm supports our people in managing the risks that arise during our daily working lives we work\n",
      "closely with all parts of the organization to identify manage and monitor risk providing coordinated advice and assistance on independence\n",
      "conflicts compliance regulatory policy security issues as well as dealing with claims and any queries regarding ethics the opportunity we\n",
      "are operating in an increasingly connected world that is changing how to manage risk with fast paced technology advancements new innovations\n",
      "within emerging technologies and an ever challenging regulatory environment it is business critical for our organization to identify not\n",
      "only the risks but the opportunities these present to us as a data protection privacy senior associate you will make educated thoughtful\n",
      "decisions on risk management our brand depends on it it s all part of our long term commitment to building a better working world and in\n",
      "return you can expect plenty of opportunities to take on new responsibilities and develop your career your key responsibilities as part of\n",
      "ey americas data protection confidentiality data privacy function you will assist in the development implementation and monitoring of\n",
      "various activities within the ey data protection program this position requires in depth subject matter knowledge you will provide research\n",
      "and analysis across one or more data protection functional areas and will assist in interpreting data protection and privacy laws and\n",
      "policies determining required actions to standard and non standard situations and making recommendations based on firm guidance professional\n",
      "standards and acquired experience skills and attributes for success drives activities within the data management function of the data\n",
      "protection program including but not limited to documenting conducting and assisting others with investigations of data incidents i e\n",
      "instances of loss theft or inappropriate disclosure of confidential personal information collaborating with clients internal functions and\n",
      "ey service lines to understand root cause assess impact and develop remediation plans developing and maintaining ey confidential and\n",
      "personal information inventory in partnership with ey internal functions and service lines to understand types of information that require\n",
      "protection and to fulfil data protection regulatory requirements e g records of processing activities ropa andresponding to data subject\n",
      "rights dsr and internal data access requests in accordance with applicable data protection legal and regulatory requirements and ey policies\n",
      "assists in responding to client inquiries and questions about ey s data protection and privacy program assists in analyzing legal and\n",
      "regulatory developments to confirm applicable requirements assists in maintaining and updating ey data protection policies guidance training\n",
      "and awareness communication plan to reflect new and or changes to data protection laws regulations and standards guides ey personnel through\n",
      "legal regulatory ey client and ey firm data protection and privacy requirements collaborates with various functions across the organization\n",
      "such as ey s information security it risk management members of the business and service line quality and talent to design and implement\n",
      "controls in order to protection confidential personal information creates reports on various data protection program activities to be\n",
      "delivered to key program stakeholders including senior leaders within the organization continuously maintains and expands knowledge of field\n",
      "of expertise and communicates new developments and resulting impact to program stakeholders and team members andparticipates in various ad\n",
      "hoc data protection and privacy projects as needs develop to qualify for the role you must have strong verbal and written communication\n",
      "skillssolid understanding of relevant firm business and area wide data protection issues and concernsstrong problem solving\n",
      "skillsflexibility and the ability to take the initiativeability to right size riskstrong research skillsstrong project management skills\n",
      "ability to successfully handle multiple tasksgood working knowledge of information systems and common software packagesbachelor s degree or\n",
      "equivalent work experience graduate degree or juris doctorate plus years related experience ideally you ll have ability to reference\n",
      "existing firm data protection and privacy policies as well as knowledge and experience to review complex situations and assist in proposing\n",
      "solutionsstrong knowledge of relevant global national and local data protection laws regulations and standards as well as familiarity with\n",
      "other risk management initiatives outside of their specific areasound understanding of high level technology trends and issues surrounding\n",
      "data protectionprivacy certification from isaca or the international association of privacy professionals e g cipp cipm cdpse what we look\n",
      "for we re interested in people that will be able to right size risk and recommend creative solutions to complex problems as well as make\n",
      "significant contributions to complex risk management projects what working at ey offers we offer a competitive compensation package where\n",
      "you ll be rewarded based on your performance and recognized for the value you bring to our business in addition our total rewards package\n",
      "includes medical and dental coverage both pension and k plans a minimum of days of paid time off with additional time based on your level\n",
      "and years of service plus observed holidays and a range of programs and benefits designed to support your physical financial and social well\n",
      "being about ey as a global leader in assurance tax transaction and advisory services we hire and develop the most passionate people in their\n",
      "field to help build a better working world this starts with a culture that believes in giving you the training opportunities and creative\n",
      "freedom to make things better so that whenever you join however long you stay the exceptional ey experience lasts a lifetime if you can\n",
      "confidently demonstrate that you meet the criteria above please contact us as soon as possible join us in building a better working world\n",
      "apply now what we offer we offer a comprehensive compensation and benefits package where you ll be rewarded based on your performance and\n",
      "recognized for the value you bring to the business the salary range for this job in most geographic locations in the us is to the salary\n",
      "range for new york city metro area washington state and california excluding sacramento is to individual salaries within those ranges are\n",
      "determined through a wide variety of factors including but not limited to education experience knowledge skills and geography in addition\n",
      "our total rewards package includes medical and dental coverage pension and k plans and a wide range of paid time off options under our\n",
      "flexible vacation policy you ll decide how much vacation time you need based on your own personal circumstances you ll also be granted time\n",
      "off for designated ey paid holidays winter summer breaks personal family care and other leaves of absence when needed to support your\n",
      "physical financial and emotional well being continuous learning you ll develop the mindset and skills to navigate whatever comes next\n",
      "success as defined by you we ll provide the tools and flexibility so you can make a meaningful impact your way transformative leadership we\n",
      "ll give you the insights coaching and confidence to be the leader the world needs diverse and inclusive culture you ll be embraced for who\n",
      "you are and empowered to use your voice to help others find theirs if you can demonstrate that you meet the criteria above please contact us\n",
      "as soon as possible the exceptional ey experience it s yours to build ey building a better working world ey exists to build a better working\n",
      "world helping to create long term value for clients people and society and build trust in the capital markets enabled by data and technology\n",
      "diverse ey teams in over countries provide trust through assurance and help clients grow transform and operate working across assurance\n",
      "consulting law strategy tax and transactions ey teams ask better questions to find new answers for the complex issues facing our world today\n",
      "ey is an equal opportunity affirmative action employer providing equal employment opportunities to applicants and employees without regard\n",
      "to race color religion age sex sexual orientation gender identity expression pregnancy genetic information national origin protected veteran\n",
      "status disability status or any other legally protected basis including arrest and conviction records in accordance with applicable law ey\n",
      "is committed to providing reasonable accommodation to qualified individuals with disabilities including veterans with disabilities if you\n",
      "have a disability and either need assistance applying online or need to request an accommodation during any part of the application process\n",
      "please call ey type option hr related inquiries and then type option hr shared services center which will route you to ey s talent shared\n",
      "services team or email ssc customer support at ssc customersupport ey com\n"
     ]
    }
   ],
   "source": [
    "description = job_sample['description']\n",
    "print(\"\\n\".join(textwrap.wrap(description, width=140)))"
   ]
  }
 ],
 "metadata": {
  "kernelspec": {
   "display_name": "DMML",
   "language": "python",
   "name": "python3"
  },
  "language_info": {
   "codemirror_mode": {
    "name": "ipython",
    "version": 3
   },
   "file_extension": ".py",
   "mimetype": "text/x-python",
   "name": "python",
   "nbconvert_exporter": "python",
   "pygments_lexer": "ipython3",
   "version": "3.11.11"
  }
 },
 "nbformat": 4,
 "nbformat_minor": 4
}
