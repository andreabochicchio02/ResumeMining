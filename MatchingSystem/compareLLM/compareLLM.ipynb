{
 "cells": [
  {
   "cell_type": "code",
   "execution_count": 9,
   "id": "e950c817",
   "metadata": {},
   "outputs": [],
   "source": [
    "import pandas as pd\n",
    "import numpy as np\n",
    "import time\n",
    "import os\n",
    "from sklearn.metrics.pairwise import cosine_similarity\n",
    "from sentence_transformers import SentenceTransformer\n",
    "from sklearn.preprocessing import LabelEncoder\n",
    "from google import genai"
   ]
  },
  {
   "cell_type": "code",
   "execution_count": null,
   "id": "bf85d07f",
   "metadata": {},
   "outputs": [],
   "source": [
    "KEY = \"\"\n",
    "client = genai.Client(api_key=KEY)"
   ]
  },
  {
   "cell_type": "code",
   "execution_count": 11,
   "id": "8af08f06",
   "metadata": {},
   "outputs": [
    {
     "data": {
      "application/vnd.jupyter.widget-view+json": {
       "model_id": "edfd4f180196402188c613d0563ce270",
       "version_major": 2,
       "version_minor": 0
      },
      "text/plain": [
       "Batches:   0%|          | 0/78 [00:00<?, ?it/s]"
      ]
     },
     "metadata": {},
     "output_type": "display_data"
    }
   ],
   "source": [
    "df_resumes = pd.read_csv('../../PreProcessingResumes/processed_data/Resumes.csv')\n",
    "\n",
    "# Convert resumes column to a list\n",
    "resumes = df_resumes[\"Resume_str\"].tolist()\n",
    "    \n",
    "# Encode category labels as integers\n",
    "encoder = LabelEncoder()\n",
    "labels = encoder.fit_transform(df_resumes[\"Category\"])\n",
    "category_names = encoder.classes_.tolist()\n",
    "\n",
    "# Load the SBERT model for generating sentence embeddings\n",
    "sbert_model = SentenceTransformer('all-MiniLM-L12-v2')\n",
    "\n",
    "resumes_embed = sbert_model.encode(resumes, show_progress_bar=True)"
   ]
  },
  {
   "cell_type": "code",
   "execution_count": 12,
   "id": "089ecc5b",
   "metadata": {},
   "outputs": [],
   "source": [
    "def select_next_job(df_jobs, output_csv):\n",
    "    processed = pd.read_csv(output_csv)['job_id'].unique()\n",
    "    available = df_jobs[~df_jobs['job_id'].isin(processed)]\n",
    "\n",
    "    # Randomly sample one available job\n",
    "    job_sample = available.sample(n=1).iloc[0]\n",
    "    return job_sample"
   ]
  },
  {
   "cell_type": "code",
   "execution_count": 13,
   "id": "d2287ff0",
   "metadata": {},
   "outputs": [],
   "source": [
    "def requestLLM(resume_text, job_description):\n",
    "    \"\"\"\n",
    "    Query the LLM to get a similarity score between resume and job description.\n",
    "    Returns a value from 0-10 indicating how well the resume fits the job.\n",
    "    \"\"\"\n",
    "\n",
    "    # As a Human Resources recruiter, your task is to evaluate whether the **professional field or industry** of the candidate aligns with that of the job description.\n",
    "    # As a Human Resources recruiter, your task is to evaluate how well a candidate's resume matches a job description\n",
    "    # Given a resume and a job description, assign an integer score from 1 to 10 indicating how well the resume matches the position.\n",
    "    # Ignore experience, specific skills, or seniority level — focus only on the alignment of the professional domain.\n",
    "    \n",
    "    prompt = f\"\"\"Analyze the match between this RESUME and JOB DESCRIPTION. \n",
    "    As a Human Resources recruiter, your task is to evaluate whether the professional field of the candidate aligns with that of the job description.\n",
    "    \n",
    "    RESUME:\n",
    "    {resume_text}\n",
    "    \n",
    "    JOB DESCRIPTION:\n",
    "    {job_description}\n",
    "    \n",
    "    Given a resume and a job description, assign an integer score from 0 to 10 indicating how well the resume matches the position.\n",
    "    \n",
    "    Provide only a single integer score representing how well this resume matches the job requirements.\n",
    "    Don't provide any explanation, just return the integer score between 0 and 10.\n",
    "    \"\"\"\n",
    "    \n",
    "    response = client.models.generate_content(\n",
    "        model = \"gemini-2.0-flash\",\n",
    "        contents= prompt,\n",
    "    )\n",
    "\n",
    "    content = response.text.replace('\\n', '')\n",
    "    return content"
   ]
  },
  {
   "cell_type": "code",
   "execution_count": 14,
   "id": "ba5931be",
   "metadata": {},
   "outputs": [],
   "source": [
    "def random_indices(similarity_vector):\n",
    "    # Get indices of top_n resumes with highest similarity scores\n",
    "    sorted_indices = similarity_vector.argsort()[::-1]\n",
    "\n",
    "    # 5 best\n",
    "    best_idx = sorted_indices[:5]\n",
    "\n",
    "    # 5 random\n",
    "    remaining_indices = sorted_indices[5:-2]\n",
    "    random_idx = np.random.choice(remaining_indices, size=5, replace=False)\n",
    "\n",
    "    # combine result\n",
    "    final_indices = np.concatenate([best_idx, random_idx])\n",
    "\n",
    "    return final_indices"
   ]
  },
  {
   "cell_type": "code",
   "execution_count": 15,
   "id": "3bce631f",
   "metadata": {},
   "outputs": [],
   "source": [
    "def get_similarity_score(job_sample, similarity_vector, indices):    \n",
    "    results = []\n",
    "    for rank, cv_idx in enumerate(indices, start=1):\n",
    "        \n",
    "        score = requestLLM(df_resumes.iloc[cv_idx]['Resume_str'], job_sample['description'])\n",
    "        \n",
    "        results.append({\n",
    "            'job_id':           job_sample['job_id'],\n",
    "            'job_title':        job_sample['title'],\n",
    "            'cv_id':            df_resumes.iloc[cv_idx]['ID'],      \n",
    "            'cv_category':      df_resumes.iloc[cv_idx]['Category'],\n",
    "            'similarity_score': round(similarity_vector[cv_idx]*10),\n",
    "            'gemini_score':     score\n",
    "        })\n",
    "\n",
    "        time.sleep(2)\n",
    "\n",
    "    df_matches = pd.DataFrame(results)\n",
    "\n",
    "    return df_matches "
   ]
  },
  {
   "cell_type": "code",
   "execution_count": 19,
   "id": "a127fdc3",
   "metadata": {},
   "outputs": [
    {
     "ename": "ServerError",
     "evalue": "503 UNAVAILABLE. {'error': {'code': 503, 'message': 'The service is currently unavailable.', 'status': 'UNAVAILABLE'}}",
     "output_type": "error",
     "traceback": [
      "\u001b[1;31m---------------------------------------------------------------------------\u001b[0m",
      "\u001b[1;31mServerError\u001b[0m                               Traceback (most recent call last)",
      "Cell \u001b[1;32mIn[19], line 18\u001b[0m\n\u001b[0;32m     15\u001b[0m \u001b[38;5;66;03m# Fetch random CVs to evaluate cosine similarity\u001b[39;00m\n\u001b[0;32m     16\u001b[0m indices \u001b[38;5;241m=\u001b[39m random_indices(similarity_vector)\n\u001b[1;32m---> 18\u001b[0m matches \u001b[38;5;241m=\u001b[39m \u001b[43mget_similarity_score\u001b[49m\u001b[43m(\u001b[49m\u001b[43mjob_sample\u001b[49m\u001b[43m,\u001b[49m\u001b[43m \u001b[49m\u001b[43msimilarity_vector\u001b[49m\u001b[43m,\u001b[49m\u001b[43m \u001b[49m\u001b[43mindices\u001b[49m\u001b[43m)\u001b[49m\n\u001b[0;32m     20\u001b[0m \u001b[38;5;66;03m#Append results to the CSV file\u001b[39;00m\n\u001b[0;32m     21\u001b[0m header \u001b[38;5;241m=\u001b[39m \u001b[38;5;129;01mnot\u001b[39;00m os\u001b[38;5;241m.\u001b[39mpath\u001b[38;5;241m.\u001b[39mexists(OUTPUT_CSV)\n",
      "Cell \u001b[1;32mIn[15], line 5\u001b[0m, in \u001b[0;36mget_similarity_score\u001b[1;34m(job_sample, similarity_vector, indices)\u001b[0m\n\u001b[0;32m      2\u001b[0m results \u001b[38;5;241m=\u001b[39m []\n\u001b[0;32m      3\u001b[0m \u001b[38;5;28;01mfor\u001b[39;00m rank, cv_idx \u001b[38;5;129;01min\u001b[39;00m \u001b[38;5;28menumerate\u001b[39m(indices, start\u001b[38;5;241m=\u001b[39m\u001b[38;5;241m1\u001b[39m):\n\u001b[1;32m----> 5\u001b[0m     score \u001b[38;5;241m=\u001b[39m \u001b[43mrequestLLM\u001b[49m\u001b[43m(\u001b[49m\u001b[43mdf_resumes\u001b[49m\u001b[38;5;241;43m.\u001b[39;49m\u001b[43miloc\u001b[49m\u001b[43m[\u001b[49m\u001b[43mcv_idx\u001b[49m\u001b[43m]\u001b[49m\u001b[43m[\u001b[49m\u001b[38;5;124;43m'\u001b[39;49m\u001b[38;5;124;43mResume_str\u001b[39;49m\u001b[38;5;124;43m'\u001b[39;49m\u001b[43m]\u001b[49m\u001b[43m,\u001b[49m\u001b[43m \u001b[49m\u001b[43mjob_sample\u001b[49m\u001b[43m[\u001b[49m\u001b[38;5;124;43m'\u001b[39;49m\u001b[38;5;124;43mdescription\u001b[39;49m\u001b[38;5;124;43m'\u001b[39;49m\u001b[43m]\u001b[49m\u001b[43m)\u001b[49m\n\u001b[0;32m      7\u001b[0m     results\u001b[38;5;241m.\u001b[39mappend({\n\u001b[0;32m      8\u001b[0m         \u001b[38;5;124m'\u001b[39m\u001b[38;5;124mjob_id\u001b[39m\u001b[38;5;124m'\u001b[39m:           job_sample[\u001b[38;5;124m'\u001b[39m\u001b[38;5;124mjob_id\u001b[39m\u001b[38;5;124m'\u001b[39m],\n\u001b[0;32m      9\u001b[0m         \u001b[38;5;124m'\u001b[39m\u001b[38;5;124mjob_title\u001b[39m\u001b[38;5;124m'\u001b[39m:        job_sample[\u001b[38;5;124m'\u001b[39m\u001b[38;5;124mtitle\u001b[39m\u001b[38;5;124m'\u001b[39m],\n\u001b[1;32m   (...)\u001b[0m\n\u001b[0;32m     13\u001b[0m         \u001b[38;5;124m'\u001b[39m\u001b[38;5;124mgemini_score\u001b[39m\u001b[38;5;124m'\u001b[39m:     score\n\u001b[0;32m     14\u001b[0m     })\n\u001b[0;32m     16\u001b[0m     time\u001b[38;5;241m.\u001b[39msleep(\u001b[38;5;241m2\u001b[39m)\n",
      "Cell \u001b[1;32mIn[13], line 27\u001b[0m, in \u001b[0;36mrequestLLM\u001b[1;34m(resume_text, job_description)\u001b[0m\n\u001b[0;32m      7\u001b[0m \u001b[38;5;66;03m# As a Human Resources recruiter, your task is to evaluate whether the **professional field or industry** of the candidate aligns with that of the job description.\u001b[39;00m\n\u001b[0;32m      8\u001b[0m \u001b[38;5;66;03m# As a Human Resources recruiter, your task is to evaluate how well a candidate's resume matches a job description\u001b[39;00m\n\u001b[0;32m      9\u001b[0m \u001b[38;5;66;03m# Given a resume and a job description, assign an integer score from 1 to 10 indicating how well the resume matches the position.\u001b[39;00m\n\u001b[0;32m     10\u001b[0m \u001b[38;5;66;03m# Ignore experience, specific skills, or seniority level — focus only on the alignment of the professional domain.\u001b[39;00m\n\u001b[0;32m     12\u001b[0m prompt \u001b[38;5;241m=\u001b[39m \u001b[38;5;124mf\u001b[39m\u001b[38;5;124m\"\"\"\u001b[39m\u001b[38;5;124mAnalyze the match between this RESUME and JOB DESCRIPTION. \u001b[39m\n\u001b[0;32m     13\u001b[0m \u001b[38;5;124mAs a Human Resources recruiter, your task is to evaluate whether the professional field of the candidate aligns with that of the job description.\u001b[39m\n\u001b[0;32m     14\u001b[0m \u001b[38;5;124m\u001b[39m\n\u001b[1;32m   (...)\u001b[0m\n\u001b[0;32m     24\u001b[0m \u001b[38;5;124mDon\u001b[39m\u001b[38;5;124m'\u001b[39m\u001b[38;5;124mt provide any explanation, just return the integer score between 0 and 10.\u001b[39m\n\u001b[0;32m     25\u001b[0m \u001b[38;5;124m\u001b[39m\u001b[38;5;124m\"\"\"\u001b[39m\n\u001b[1;32m---> 27\u001b[0m response \u001b[38;5;241m=\u001b[39m \u001b[43mclient\u001b[49m\u001b[38;5;241;43m.\u001b[39;49m\u001b[43mmodels\u001b[49m\u001b[38;5;241;43m.\u001b[39;49m\u001b[43mgenerate_content\u001b[49m\u001b[43m(\u001b[49m\n\u001b[0;32m     28\u001b[0m \u001b[43m    \u001b[49m\u001b[43mmodel\u001b[49m\u001b[43m \u001b[49m\u001b[38;5;241;43m=\u001b[39;49m\u001b[43m \u001b[49m\u001b[38;5;124;43m\"\u001b[39;49m\u001b[38;5;124;43mgemini-2.0-flash\u001b[39;49m\u001b[38;5;124;43m\"\u001b[39;49m\u001b[43m,\u001b[49m\n\u001b[0;32m     29\u001b[0m \u001b[43m    \u001b[49m\u001b[43mcontents\u001b[49m\u001b[38;5;241;43m=\u001b[39;49m\u001b[43m \u001b[49m\u001b[43mprompt\u001b[49m\u001b[43m,\u001b[49m\n\u001b[0;32m     30\u001b[0m \u001b[43m\u001b[49m\u001b[43m)\u001b[49m\n\u001b[0;32m     32\u001b[0m content \u001b[38;5;241m=\u001b[39m response\u001b[38;5;241m.\u001b[39mtext\u001b[38;5;241m.\u001b[39mreplace(\u001b[38;5;124m'\u001b[39m\u001b[38;5;130;01m\\n\u001b[39;00m\u001b[38;5;124m'\u001b[39m, \u001b[38;5;124m'\u001b[39m\u001b[38;5;124m'\u001b[39m)\n\u001b[0;32m     33\u001b[0m \u001b[38;5;28;01mreturn\u001b[39;00m content\n",
      "File \u001b[1;32mc:\\Users\\filip\\anaconda3\\envs\\DMML\\Lib\\site-packages\\google\\genai\\models.py:5202\u001b[0m, in \u001b[0;36mModels.generate_content\u001b[1;34m(self, model, contents, config)\u001b[0m\n\u001b[0;32m   5200\u001b[0m \u001b[38;5;28;01mwhile\u001b[39;00m remaining_remote_calls_afc \u001b[38;5;241m>\u001b[39m \u001b[38;5;241m0\u001b[39m:\n\u001b[0;32m   5201\u001b[0m   i \u001b[38;5;241m+\u001b[39m\u001b[38;5;241m=\u001b[39m \u001b[38;5;241m1\u001b[39m\n\u001b[1;32m-> 5202\u001b[0m   response \u001b[38;5;241m=\u001b[39m \u001b[38;5;28;43mself\u001b[39;49m\u001b[38;5;241;43m.\u001b[39;49m\u001b[43m_generate_content\u001b[49m\u001b[43m(\u001b[49m\n\u001b[0;32m   5203\u001b[0m \u001b[43m      \u001b[49m\u001b[43mmodel\u001b[49m\u001b[38;5;241;43m=\u001b[39;49m\u001b[43mmodel\u001b[49m\u001b[43m,\u001b[49m\u001b[43m \u001b[49m\u001b[43mcontents\u001b[49m\u001b[38;5;241;43m=\u001b[39;49m\u001b[43mcontents\u001b[49m\u001b[43m,\u001b[49m\u001b[43m \u001b[49m\u001b[43mconfig\u001b[49m\u001b[38;5;241;43m=\u001b[39;49m\u001b[43mconfig\u001b[49m\n\u001b[0;32m   5204\u001b[0m \u001b[43m  \u001b[49m\u001b[43m)\u001b[49m\n\u001b[0;32m   5205\u001b[0m   logger\u001b[38;5;241m.\u001b[39minfo(\u001b[38;5;124mf\u001b[39m\u001b[38;5;124m'\u001b[39m\u001b[38;5;124mAFC remote call \u001b[39m\u001b[38;5;132;01m{\u001b[39;00mi\u001b[38;5;132;01m}\u001b[39;00m\u001b[38;5;124m is done.\u001b[39m\u001b[38;5;124m'\u001b[39m)\n\u001b[0;32m   5206\u001b[0m   remaining_remote_calls_afc \u001b[38;5;241m-\u001b[39m\u001b[38;5;241m=\u001b[39m \u001b[38;5;241m1\u001b[39m\n",
      "File \u001b[1;32mc:\\Users\\filip\\anaconda3\\envs\\DMML\\Lib\\site-packages\\google\\genai\\models.py:4178\u001b[0m, in \u001b[0;36mModels._generate_content\u001b[1;34m(self, model, contents, config)\u001b[0m\n\u001b[0;32m   4175\u001b[0m request_dict \u001b[38;5;241m=\u001b[39m _common\u001b[38;5;241m.\u001b[39mconvert_to_dict(request_dict)\n\u001b[0;32m   4176\u001b[0m request_dict \u001b[38;5;241m=\u001b[39m _common\u001b[38;5;241m.\u001b[39mencode_unserializable_types(request_dict)\n\u001b[1;32m-> 4178\u001b[0m response_dict \u001b[38;5;241m=\u001b[39m \u001b[38;5;28;43mself\u001b[39;49m\u001b[38;5;241;43m.\u001b[39;49m\u001b[43m_api_client\u001b[49m\u001b[38;5;241;43m.\u001b[39;49m\u001b[43mrequest\u001b[49m\u001b[43m(\u001b[49m\n\u001b[0;32m   4179\u001b[0m \u001b[43m    \u001b[49m\u001b[38;5;124;43m'\u001b[39;49m\u001b[38;5;124;43mpost\u001b[39;49m\u001b[38;5;124;43m'\u001b[39;49m\u001b[43m,\u001b[49m\u001b[43m \u001b[49m\u001b[43mpath\u001b[49m\u001b[43m,\u001b[49m\u001b[43m \u001b[49m\u001b[43mrequest_dict\u001b[49m\u001b[43m,\u001b[49m\u001b[43m \u001b[49m\u001b[43mhttp_options\u001b[49m\n\u001b[0;32m   4180\u001b[0m \u001b[43m\u001b[49m\u001b[43m)\u001b[49m\n\u001b[0;32m   4182\u001b[0m \u001b[38;5;28;01mif\u001b[39;00m \u001b[38;5;28mself\u001b[39m\u001b[38;5;241m.\u001b[39m_api_client\u001b[38;5;241m.\u001b[39mvertexai:\n\u001b[0;32m   4183\u001b[0m   response_dict \u001b[38;5;241m=\u001b[39m _GenerateContentResponse_from_vertex(\n\u001b[0;32m   4184\u001b[0m       \u001b[38;5;28mself\u001b[39m\u001b[38;5;241m.\u001b[39m_api_client, response_dict\n\u001b[0;32m   4185\u001b[0m   )\n",
      "File \u001b[1;32mc:\\Users\\filip\\anaconda3\\envs\\DMML\\Lib\\site-packages\\google\\genai\\_api_client.py:755\u001b[0m, in \u001b[0;36mBaseApiClient.request\u001b[1;34m(self, http_method, path, request_dict, http_options)\u001b[0m\n\u001b[0;32m    745\u001b[0m \u001b[38;5;28;01mdef\u001b[39;00m\u001b[38;5;250m \u001b[39m\u001b[38;5;21mrequest\u001b[39m(\n\u001b[0;32m    746\u001b[0m     \u001b[38;5;28mself\u001b[39m,\n\u001b[0;32m    747\u001b[0m     http_method: \u001b[38;5;28mstr\u001b[39m,\n\u001b[1;32m   (...)\u001b[0m\n\u001b[0;32m    750\u001b[0m     http_options: Optional[HttpOptionsOrDict] \u001b[38;5;241m=\u001b[39m \u001b[38;5;28;01mNone\u001b[39;00m,\n\u001b[0;32m    751\u001b[0m ) \u001b[38;5;241m-\u001b[39m\u001b[38;5;241m>\u001b[39m Union[BaseResponse, Any]:\n\u001b[0;32m    752\u001b[0m   http_request \u001b[38;5;241m=\u001b[39m \u001b[38;5;28mself\u001b[39m\u001b[38;5;241m.\u001b[39m_build_request(\n\u001b[0;32m    753\u001b[0m       http_method, path, request_dict, http_options\n\u001b[0;32m    754\u001b[0m   )\n\u001b[1;32m--> 755\u001b[0m   response \u001b[38;5;241m=\u001b[39m \u001b[38;5;28;43mself\u001b[39;49m\u001b[38;5;241;43m.\u001b[39;49m\u001b[43m_request\u001b[49m\u001b[43m(\u001b[49m\u001b[43mhttp_request\u001b[49m\u001b[43m,\u001b[49m\u001b[43m \u001b[49m\u001b[43mstream\u001b[49m\u001b[38;5;241;43m=\u001b[39;49m\u001b[38;5;28;43;01mFalse\u001b[39;49;00m\u001b[43m)\u001b[49m\n\u001b[0;32m    756\u001b[0m   json_response \u001b[38;5;241m=\u001b[39m response\u001b[38;5;241m.\u001b[39mjson\n\u001b[0;32m    757\u001b[0m   \u001b[38;5;28;01mif\u001b[39;00m \u001b[38;5;129;01mnot\u001b[39;00m json_response:\n",
      "File \u001b[1;32mc:\\Users\\filip\\anaconda3\\envs\\DMML\\Lib\\site-packages\\google\\genai\\_api_client.py:684\u001b[0m, in \u001b[0;36mBaseApiClient._request\u001b[1;34m(self, http_request, stream)\u001b[0m\n\u001b[0;32m    676\u001b[0m \u001b[38;5;28;01melse\u001b[39;00m:\n\u001b[0;32m    677\u001b[0m   response \u001b[38;5;241m=\u001b[39m \u001b[38;5;28mself\u001b[39m\u001b[38;5;241m.\u001b[39m_httpx_client\u001b[38;5;241m.\u001b[39mrequest(\n\u001b[0;32m    678\u001b[0m       method\u001b[38;5;241m=\u001b[39mhttp_request\u001b[38;5;241m.\u001b[39mmethod,\n\u001b[0;32m    679\u001b[0m       url\u001b[38;5;241m=\u001b[39mhttp_request\u001b[38;5;241m.\u001b[39murl,\n\u001b[1;32m   (...)\u001b[0m\n\u001b[0;32m    682\u001b[0m       timeout\u001b[38;5;241m=\u001b[39mhttp_request\u001b[38;5;241m.\u001b[39mtimeout,\n\u001b[0;32m    683\u001b[0m   )\n\u001b[1;32m--> 684\u001b[0m   \u001b[43merrors\u001b[49m\u001b[38;5;241;43m.\u001b[39;49m\u001b[43mAPIError\u001b[49m\u001b[38;5;241;43m.\u001b[39;49m\u001b[43mraise_for_response\u001b[49m\u001b[43m(\u001b[49m\u001b[43mresponse\u001b[49m\u001b[43m)\u001b[49m\n\u001b[0;32m    685\u001b[0m   \u001b[38;5;28;01mreturn\u001b[39;00m HttpResponse(\n\u001b[0;32m    686\u001b[0m       response\u001b[38;5;241m.\u001b[39mheaders, response \u001b[38;5;28;01mif\u001b[39;00m stream \u001b[38;5;28;01melse\u001b[39;00m [response\u001b[38;5;241m.\u001b[39mtext]\n\u001b[0;32m    687\u001b[0m   )\n",
      "File \u001b[1;32mc:\\Users\\filip\\anaconda3\\envs\\DMML\\Lib\\site-packages\\google\\genai\\errors.py:103\u001b[0m, in \u001b[0;36mAPIError.raise_for_response\u001b[1;34m(cls, response)\u001b[0m\n\u001b[0;32m    101\u001b[0m   \u001b[38;5;28;01mraise\u001b[39;00m ClientError(status_code, response_json, response)\n\u001b[0;32m    102\u001b[0m \u001b[38;5;28;01melif\u001b[39;00m \u001b[38;5;241m500\u001b[39m \u001b[38;5;241m<\u001b[39m\u001b[38;5;241m=\u001b[39m status_code \u001b[38;5;241m<\u001b[39m \u001b[38;5;241m600\u001b[39m:\n\u001b[1;32m--> 103\u001b[0m   \u001b[38;5;28;01mraise\u001b[39;00m ServerError(status_code, response_json, response)\n\u001b[0;32m    104\u001b[0m \u001b[38;5;28;01melse\u001b[39;00m:\n\u001b[0;32m    105\u001b[0m   \u001b[38;5;28;01mraise\u001b[39;00m \u001b[38;5;28mcls\u001b[39m(status_code, response_json, response)\n",
      "\u001b[1;31mServerError\u001b[0m: 503 UNAVAILABLE. {'error': {'code': 503, 'message': 'The service is currently unavailable.', 'status': 'UNAVAILABLE'}}"
     ]
    }
   ],
   "source": [
    "TIMES = 30\n",
    "OUTPUT_CSV = \"compare.csv\"\n",
    "\n",
    "\n",
    "for i in range(TIMES):\n",
    "\n",
    "    df_jobs = pd.read_csv('../../PreProcessingJobs/processed_data/JobDescription.csv')\n",
    "    job_sample = select_next_job(df_jobs, OUTPUT_CSV)\n",
    "\n",
    "    job_desc = job_sample['description']\n",
    "    job_embed = sbert_model.encode([job_desc], show_progress_bar=False)\n",
    "\n",
    "    similarity_vector = cosine_similarity(job_embed, resumes_embed).flatten()\n",
    "\n",
    "    # Fetch random CVs to evaluate cosine similarity\n",
    "    indices = random_indices(similarity_vector)\n",
    "\n",
    "    matches = get_similarity_score(job_sample, similarity_vector, indices)\n",
    "\n",
    "    #Append results to the CSV file\n",
    "    header = not os.path.exists(OUTPUT_CSV)\n",
    "    matches.to_csv(OUTPUT_CSV, mode='a', index=False, header=header)\n",
    "\n",
    "    # Sleep for 60 seconds to avoid exceeding Gemini API rate limits\n",
    "    time.sleep(60)"
   ]
  }
 ],
 "metadata": {
  "kernelspec": {
   "display_name": "DMML",
   "language": "python",
   "name": "python3"
  },
  "language_info": {
   "codemirror_mode": {
    "name": "ipython",
    "version": 3
   },
   "file_extension": ".py",
   "mimetype": "text/x-python",
   "name": "python",
   "nbconvert_exporter": "python",
   "pygments_lexer": "ipython3",
   "version": "3.11.11"
  }
 },
 "nbformat": 4,
 "nbformat_minor": 5
}
