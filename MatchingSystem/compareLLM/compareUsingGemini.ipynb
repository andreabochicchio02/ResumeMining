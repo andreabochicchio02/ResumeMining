{
 "cells": [
  {
   "cell_type": "code",
   "execution_count": 1,
   "id": "e950c817",
   "metadata": {},
   "outputs": [],
   "source": [
    "import pandas as pd\n",
    "import numpy as np\n",
    "import time\n",
    "import os\n",
    "from sklearn.metrics.pairwise import cosine_similarity\n",
    "from sentence_transformers import SentenceTransformer\n",
    "from sklearn.preprocessing import LabelEncoder\n",
    "from google import genai"
   ]
  },
  {
   "cell_type": "code",
   "execution_count": null,
   "id": "bf85d07f",
   "metadata": {},
   "outputs": [],
   "source": [
    "KEY = \"\"\n",
    "client = genai.Client(api_key=KEY)"
   ]
  },
  {
   "cell_type": "code",
   "execution_count": 3,
   "id": "8af08f06",
   "metadata": {},
   "outputs": [
    {
     "data": {
      "application/vnd.jupyter.widget-view+json": {
       "model_id": "e7b1d7f499fd4d8d82f6ce99746c0dbd",
       "version_major": 2,
       "version_minor": 0
      },
      "text/plain": [
       "Batches:   0%|          | 0/78 [00:00<?, ?it/s]"
      ]
     },
     "metadata": {},
     "output_type": "display_data"
    }
   ],
   "source": [
    "df_resumes = pd.read_csv('../../PreProcessingResumes/processed_data/Resumes.csv')\n",
    "\n",
    "# Convert resumes column to a list\n",
    "resumes = df_resumes[\"Resume_str\"].tolist()\n",
    "    \n",
    "# Encode category labels as integers\n",
    "encoder = LabelEncoder()\n",
    "labels = encoder.fit_transform(df_resumes[\"Category\"])\n",
    "\n",
    "# Load the SBERT model for generating sentence embeddings\n",
    "sbert_model = SentenceTransformer('all-MiniLM-L12-v2')\n",
    "\n",
    "resumes_embed = sbert_model.encode(resumes, show_progress_bar=True)"
   ]
  },
  {
   "cell_type": "code",
   "execution_count": 4,
   "id": "089ecc5b",
   "metadata": {},
   "outputs": [],
   "source": [
    "def select_next_job(df_jobs, output_csv):\n",
    "    processed = pd.read_csv(output_csv)['job_id'].unique()\n",
    "    available = df_jobs[~df_jobs['job_id'].isin(processed)]\n",
    "\n",
    "    # Randomly sample one available job\n",
    "    job_sample = available.sample(n=1).iloc[0]\n",
    "    return job_sample"
   ]
  },
  {
   "cell_type": "code",
   "execution_count": 5,
   "id": "d2287ff0",
   "metadata": {},
   "outputs": [],
   "source": [
    "def requestLLM(resume_text, job_description):\n",
    "    \"\"\"\n",
    "    Query the LLM to get a similarity score between resume and job description.\n",
    "    Returns a value from 0-10 indicating how well the resume fits the job.\n",
    "    \"\"\"\n",
    "    \n",
    "    prompt = f\"\"\"Analyze the match between this RESUME and JOB DESCRIPTION. \n",
    "    As a Human Resources recruiter, your task is to evaluate whether the professional field of the candidate aligns with that of the job description.\n",
    "    \n",
    "    RESUME:\n",
    "    {resume_text}\n",
    "    \n",
    "    JOB DESCRIPTION:\n",
    "    {job_description}\n",
    "    \n",
    "    Given a resume and a job description, assign an integer score from 0 to 10 indicating how well the resume matches the position.\n",
    "    \n",
    "    Provide only a single integer score representing how well this resume matches the job requirements.\n",
    "    Don't provide any explanation, just return the integer score between 0 and 10.\n",
    "    \"\"\"\n",
    "    \n",
    "    response = client.models.generate_content(\n",
    "        model = \"gemini-2.0-flash\",\n",
    "        contents= prompt,\n",
    "    )\n",
    "\n",
    "    content = response.text.replace('\\n', '')\n",
    "    return content"
   ]
  },
  {
   "cell_type": "code",
   "execution_count": 6,
   "id": "ba5931be",
   "metadata": {},
   "outputs": [],
   "source": [
    "def random_indices(similarity_vector):\n",
    "    # Get indices of top_n resumes with highest similarity scores\n",
    "    sorted_indices = similarity_vector.argsort()[::-1]\n",
    "\n",
    "    # 5 best\n",
    "    best_idx = sorted_indices[:5]\n",
    "\n",
    "    # 5 random\n",
    "    remaining_indices = sorted_indices[5:-2]\n",
    "    random_idx = np.random.choice(remaining_indices, size=5, replace=False)\n",
    "\n",
    "    # combine result\n",
    "    final_indices = np.concatenate([best_idx, random_idx])\n",
    "\n",
    "    return final_indices"
   ]
  },
  {
   "cell_type": "code",
   "execution_count": 7,
   "id": "3bce631f",
   "metadata": {},
   "outputs": [],
   "source": [
    "def get_similarity_score(job_sample, similarity_vector, indices):    \n",
    "    results = []\n",
    "    for rank, cv_idx in enumerate(indices, start=1):\n",
    "        \n",
    "        score = requestLLM(df_resumes.iloc[cv_idx]['Resume_str'], job_sample['description'])\n",
    "        \n",
    "        results.append({\n",
    "            'job_id':           job_sample['job_id'],\n",
    "            'job_title':        job_sample['title'],\n",
    "            'cv_id':            df_resumes.iloc[cv_idx]['ID'],      \n",
    "            'cv_category':      df_resumes.iloc[cv_idx]['Category'],\n",
    "            'similarity_score': round(similarity_vector[cv_idx]*10),\n",
    "            'gemini_score':     score\n",
    "        })\n",
    "\n",
    "        time.sleep(2)\n",
    "\n",
    "    df_matches = pd.DataFrame(results)\n",
    "\n",
    "    return df_matches "
   ]
  },
  {
   "cell_type": "code",
   "execution_count": null,
   "id": "a127fdc3",
   "metadata": {},
   "outputs": [],
   "source": [
    "TIMES = 30\n",
    "OUTPUT_CSV = \"compare.csv\"\n",
    "\n",
    "for i in range(TIMES):\n",
    "\n",
    "    df_jobs = pd.read_csv('../../PreProcessingJobs/processed_data/JobDescription.csv')\n",
    "    job_sample = select_next_job(df_jobs, OUTPUT_CSV)\n",
    "\n",
    "    job_desc = job_sample['description']\n",
    "    job_embed = sbert_model.encode([job_desc], show_progress_bar=False)\n",
    "\n",
    "    similarity_vector = cosine_similarity(job_embed, resumes_embed).flatten()\n",
    "\n",
    "    # Fetch random CVs to evaluate cosine similarity\n",
    "    indices = random_indices(similarity_vector)\n",
    "\n",
    "    matches = get_similarity_score(job_sample, similarity_vector, indices)\n",
    "\n",
    "    #Append results to the CSV file\n",
    "    header = not os.path.exists(OUTPUT_CSV)\n",
    "    matches.to_csv(OUTPUT_CSV, mode='a', index=False, header=header)\n",
    "\n",
    "    # Sleep for 60 seconds to avoid exceeding Gemini API rate limits\n",
    "    time.sleep(60)"
   ]
  }
 ],
 "metadata": {
  "kernelspec": {
   "display_name": "ResumeProject",
   "language": "python",
   "name": "python3"
  },
  "language_info": {
   "codemirror_mode": {
    "name": "ipython",
    "version": 3
   },
   "file_extension": ".py",
   "mimetype": "text/x-python",
   "name": "python",
   "nbconvert_exporter": "python",
   "pygments_lexer": "ipython3",
   "version": "3.11.11"
  }
 },
 "nbformat": 4,
 "nbformat_minor": 5
}
