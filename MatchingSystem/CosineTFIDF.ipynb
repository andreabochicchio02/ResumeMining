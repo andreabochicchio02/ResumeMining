{
 "cells": [
  {
   "cell_type": "code",
   "execution_count": 3,
   "metadata": {},
   "outputs": [],
   "source": [
    "import pandas as pd\n",
    "import nltk\n",
    "import random\n",
    "from sklearn.feature_extraction.text import CountVectorizer\n",
    "from sklearn.metrics.pairwise import cosine_similarity\n",
    "from sklearn.feature_extraction.text import TfidfVectorizer"
   ]
  },
  {
   "cell_type": "markdown",
   "metadata": {},
   "source": [
    "### Resume"
   ]
  },
  {
   "cell_type": "code",
   "execution_count": null,
   "metadata": {
    "scrolled": true
   },
   "outputs": [
    {
     "data": {
      "text/html": [
       "<div>\n",
       "<style scoped>\n",
       "    .dataframe tbody tr th:only-of-type {\n",
       "        vertical-align: middle;\n",
       "    }\n",
       "\n",
       "    .dataframe tbody tr th {\n",
       "        vertical-align: top;\n",
       "    }\n",
       "\n",
       "    .dataframe thead th {\n",
       "        text-align: right;\n",
       "    }\n",
       "</style>\n",
       "<table border=\"1\" class=\"dataframe\">\n",
       "  <thead>\n",
       "    <tr style=\"text-align: right;\">\n",
       "      <th></th>\n",
       "      <th>ID</th>\n",
       "      <th>Resume_str</th>\n",
       "      <th>Category</th>\n",
       "    </tr>\n",
       "  </thead>\n",
       "  <tbody>\n",
       "    <tr>\n",
       "      <th>0</th>\n",
       "      <td>16852973</td>\n",
       "      <td>hr administrator marketing associate hr admini...</td>\n",
       "      <td>HR</td>\n",
       "    </tr>\n",
       "    <tr>\n",
       "      <th>1</th>\n",
       "      <td>22323967</td>\n",
       "      <td>hr specialist u hr operation summary versatile...</td>\n",
       "      <td>HR</td>\n",
       "    </tr>\n",
       "    <tr>\n",
       "      <th>2</th>\n",
       "      <td>33176873</td>\n",
       "      <td>hr director summary year experience recruiting...</td>\n",
       "      <td>HR</td>\n",
       "    </tr>\n",
       "    <tr>\n",
       "      <th>3</th>\n",
       "      <td>27018550</td>\n",
       "      <td>hr specialist summary dedicated driven dynamic...</td>\n",
       "      <td>HR</td>\n",
       "    </tr>\n",
       "    <tr>\n",
       "      <th>4</th>\n",
       "      <td>17812897</td>\n",
       "      <td>hr manager skill highlight hr skill hr departm...</td>\n",
       "      <td>HR</td>\n",
       "    </tr>\n",
       "  </tbody>\n",
       "</table>\n",
       "</div>"
      ],
      "text/plain": [
       "         ID                                         Resume_str Category\n",
       "0  16852973  hr administrator marketing associate hr admini...       HR\n",
       "1  22323967  hr specialist u hr operation summary versatile...       HR\n",
       "2  33176873  hr director summary year experience recruiting...       HR\n",
       "3  27018550  hr specialist summary dedicated driven dynamic...       HR\n",
       "4  17812897  hr manager skill highlight hr skill hr departm...       HR"
      ]
     },
     "execution_count": 5,
     "metadata": {},
     "output_type": "execute_result"
    }
   ],
   "source": [
    "df_resumes = pd.read_csv('../PreProcessingJobs/processed_data/Resume_proc_lemm.csv')\n",
    "df_resumes.head()"
   ]
  },
  {
   "cell_type": "code",
   "execution_count": 6,
   "metadata": {},
   "outputs": [
    {
     "name": "stdout",
     "output_type": "stream",
     "text": [
      "<class 'pandas.core.frame.DataFrame'>\n",
      "RangeIndex: 2483 entries, 0 to 2482\n",
      "Data columns (total 3 columns):\n",
      " #   Column      Non-Null Count  Dtype \n",
      "---  ------      --------------  ----- \n",
      " 0   ID          2483 non-null   int64 \n",
      " 1   Resume_str  2483 non-null   object\n",
      " 2   Category    2483 non-null   object\n",
      "dtypes: int64(1), object(2)\n",
      "memory usage: 58.3+ KB\n"
     ]
    }
   ],
   "source": [
    "df_resumes.info()"
   ]
  },
  {
   "cell_type": "markdown",
   "metadata": {},
   "source": [
    "### Job Description"
   ]
  },
  {
   "cell_type": "code",
   "execution_count": 8,
   "metadata": {},
   "outputs": [
    {
     "data": {
      "text/html": [
       "<div>\n",
       "<style scoped>\n",
       "    .dataframe tbody tr th:only-of-type {\n",
       "        vertical-align: middle;\n",
       "    }\n",
       "\n",
       "    .dataframe tbody tr th {\n",
       "        vertical-align: top;\n",
       "    }\n",
       "\n",
       "    .dataframe thead th {\n",
       "        text-align: right;\n",
       "    }\n",
       "</style>\n",
       "<table border=\"1\" class=\"dataframe\">\n",
       "  <thead>\n",
       "    <tr style=\"text-align: right;\">\n",
       "      <th></th>\n",
       "      <th>job_id</th>\n",
       "      <th>title</th>\n",
       "      <th>description</th>\n",
       "      <th>skills_desc</th>\n",
       "    </tr>\n",
       "  </thead>\n",
       "  <tbody>\n",
       "    <tr>\n",
       "      <th>0</th>\n",
       "      <td>921716</td>\n",
       "      <td>Marketing Coordinator</td>\n",
       "      <td>job descriptiona leading real estate firm new ...</td>\n",
       "      <td>Requirements: \\n\\nWe are seeking a College or ...</td>\n",
       "    </tr>\n",
       "    <tr>\n",
       "      <th>1</th>\n",
       "      <td>1829192</td>\n",
       "      <td>Mental Health Therapist/Counselor</td>\n",
       "      <td>aspen therapy wellness committed serving clien...</td>\n",
       "      <td>NaN</td>\n",
       "    </tr>\n",
       "    <tr>\n",
       "      <th>2</th>\n",
       "      <td>10998357</td>\n",
       "      <td>Assitant Restaurant Manager</td>\n",
       "      <td>national exemplar accepting application assist...</td>\n",
       "      <td>We are currently accepting resumes for FOH - A...</td>\n",
       "    </tr>\n",
       "    <tr>\n",
       "      <th>3</th>\n",
       "      <td>23221523</td>\n",
       "      <td>Senior Elder Law / Trusts and Estates Associat...</td>\n",
       "      <td>senior associate attorney elder law trust esta...</td>\n",
       "      <td>This position requires a baseline understandin...</td>\n",
       "    </tr>\n",
       "    <tr>\n",
       "      <th>4</th>\n",
       "      <td>91700727</td>\n",
       "      <td>Economic Development and Planning Intern</td>\n",
       "      <td>job summary economic development planning inte...</td>\n",
       "      <td>NaN</td>\n",
       "    </tr>\n",
       "  </tbody>\n",
       "</table>\n",
       "</div>"
      ],
      "text/plain": [
       "     job_id                                              title  \\\n",
       "0    921716                              Marketing Coordinator   \n",
       "1   1829192                  Mental Health Therapist/Counselor   \n",
       "2  10998357                        Assitant Restaurant Manager   \n",
       "3  23221523  Senior Elder Law / Trusts and Estates Associat...   \n",
       "4  91700727           Economic Development and Planning Intern   \n",
       "\n",
       "                                         description  \\\n",
       "0  job descriptiona leading real estate firm new ...   \n",
       "1  aspen therapy wellness committed serving clien...   \n",
       "2  national exemplar accepting application assist...   \n",
       "3  senior associate attorney elder law trust esta...   \n",
       "4  job summary economic development planning inte...   \n",
       "\n",
       "                                         skills_desc  \n",
       "0  Requirements: \\n\\nWe are seeking a College or ...  \n",
       "1                                                NaN  \n",
       "2  We are currently accepting resumes for FOH - A...  \n",
       "3  This position requires a baseline understandin...  \n",
       "4                                                NaN  "
      ]
     },
     "execution_count": 8,
     "metadata": {},
     "output_type": "execute_result"
    }
   ],
   "source": [
    "df_jobs = pd.read_csv('../PreProcessing Jobs\\processed_data\\Job_proc_lemm.csv')\n",
    "df_jobs.head()"
   ]
  },
  {
   "cell_type": "code",
   "execution_count": 9,
   "metadata": {},
   "outputs": [
    {
     "name": "stdout",
     "output_type": "stream",
     "text": [
      "<class 'pandas.core.frame.DataFrame'>\n",
      "RangeIndex: 122545 entries, 0 to 122544\n",
      "Data columns (total 4 columns):\n",
      " #   Column       Non-Null Count   Dtype \n",
      "---  ------       --------------   ----- \n",
      " 0   job_id       122545 non-null  int64 \n",
      " 1   title        122545 non-null  object\n",
      " 2   description  122545 non-null  object\n",
      " 3   skills_desc  2409 non-null    object\n",
      "dtypes: int64(1), object(3)\n",
      "memory usage: 3.7+ MB\n"
     ]
    }
   ],
   "source": [
    "df_jobs.info()"
   ]
  },
  {
   "cell_type": "markdown",
   "metadata": {},
   "source": [
    "### Similarity"
   ]
  },
  {
   "cell_type": "code",
   "execution_count": 10,
   "metadata": {},
   "outputs": [],
   "source": [
    "tfidf_vect = TfidfVectorizer(\n",
    "    lowercase=True,\n",
    "    binary=False,\n",
    "    max_features=10000,\n",
    "    ngram_range=(1, 6),            # unigrams fino a 6-grams\n",
    "    max_df=0.8,\n",
    "    min_df=2\n",
    ")"
   ]
  },
  {
   "cell_type": "code",
   "execution_count": 11,
   "metadata": {},
   "outputs": [],
   "source": [
    "tfidf_resumes = tfidf_vect.fit_transform(df_resumes['Resume_str'])"
   ]
  },
  {
   "cell_type": "markdown",
   "metadata": {},
   "source": [
    "### Test"
   ]
  },
  {
   "cell_type": "code",
   "execution_count": 12,
   "metadata": {},
   "outputs": [],
   "source": [
    "#job_sample = df_jobs.sample(n=1).iloc[0]\n",
    "#job_desc = job_sample['description']"
   ]
  },
  {
   "cell_type": "code",
   "execution_count": 13,
   "metadata": {},
   "outputs": [],
   "source": [
    "job_sample = df_jobs[df_jobs['job_id'] == 3901356495].iloc[0] \n",
    "job_desc = job_sample['description']"
   ]
  },
  {
   "cell_type": "code",
   "execution_count": 14,
   "metadata": {},
   "outputs": [],
   "source": [
    "tfidf_job = tfidf_vect.transform([job_desc])"
   ]
  },
  {
   "cell_type": "code",
   "execution_count": 15,
   "metadata": {},
   "outputs": [],
   "source": [
    "similarity_vector = cosine_similarity(tfidf_job, tfidf_resumes).flatten()"
   ]
  },
  {
   "cell_type": "code",
   "execution_count": 16,
   "metadata": {},
   "outputs": [
    {
     "name": "stdout",
     "output_type": "stream",
     "text": [
      "[0.08951842 0.06873462 0.09289573 ... 0.07567911 0.08253002 0.06707126]\n"
     ]
    }
   ],
   "source": [
    "print(similarity_vector)"
   ]
  },
  {
   "cell_type": "code",
   "execution_count": 17,
   "metadata": {},
   "outputs": [
    {
     "data": {
      "text/html": [
       "<div>\n",
       "<style scoped>\n",
       "    .dataframe tbody tr th:only-of-type {\n",
       "        vertical-align: middle;\n",
       "    }\n",
       "\n",
       "    .dataframe tbody tr th {\n",
       "        vertical-align: top;\n",
       "    }\n",
       "\n",
       "    .dataframe thead th {\n",
       "        text-align: right;\n",
       "    }\n",
       "</style>\n",
       "<table border=\"1\" class=\"dataframe\">\n",
       "  <thead>\n",
       "    <tr style=\"text-align: right;\">\n",
       "      <th></th>\n",
       "      <th>job_id</th>\n",
       "      <th>job_title</th>\n",
       "      <th>cv_id</th>\n",
       "      <th>cv_category</th>\n",
       "      <th>similarity_score</th>\n",
       "      <th>rank</th>\n",
       "    </tr>\n",
       "  </thead>\n",
       "  <tbody>\n",
       "    <tr>\n",
       "      <th>0</th>\n",
       "      <td>3901356495</td>\n",
       "      <td>LINUX SYSTEM ADMINISTRATOR (CAOC)</td>\n",
       "      <td>12415691</td>\n",
       "      <td>DESIGNER</td>\n",
       "      <td>0.330238</td>\n",
       "      <td>1</td>\n",
       "    </tr>\n",
       "    <tr>\n",
       "      <th>1</th>\n",
       "      <td>3901356495</td>\n",
       "      <td>LINUX SYSTEM ADMINISTRATOR (CAOC)</td>\n",
       "      <td>19090468</td>\n",
       "      <td>HEALTHCARE</td>\n",
       "      <td>0.321136</td>\n",
       "      <td>2</td>\n",
       "    </tr>\n",
       "    <tr>\n",
       "      <th>2</th>\n",
       "      <td>3901356495</td>\n",
       "      <td>LINUX SYSTEM ADMINISTRATOR (CAOC)</td>\n",
       "      <td>44115326</td>\n",
       "      <td>ADVOCATE</td>\n",
       "      <td>0.289770</td>\n",
       "      <td>3</td>\n",
       "    </tr>\n",
       "    <tr>\n",
       "      <th>3</th>\n",
       "      <td>3901356495</td>\n",
       "      <td>LINUX SYSTEM ADMINISTRATOR (CAOC)</td>\n",
       "      <td>22450718</td>\n",
       "      <td>INFORMATION-TECHNOLOGY</td>\n",
       "      <td>0.276257</td>\n",
       "      <td>4</td>\n",
       "    </tr>\n",
       "    <tr>\n",
       "      <th>4</th>\n",
       "      <td>3901356495</td>\n",
       "      <td>LINUX SYSTEM ADMINISTRATOR (CAOC)</td>\n",
       "      <td>23864648</td>\n",
       "      <td>INFORMATION-TECHNOLOGY</td>\n",
       "      <td>0.259785</td>\n",
       "      <td>5</td>\n",
       "    </tr>\n",
       "  </tbody>\n",
       "</table>\n",
       "</div>"
      ],
      "text/plain": [
       "       job_id                          job_title     cv_id  \\\n",
       "0  3901356495  LINUX SYSTEM ADMINISTRATOR (CAOC)  12415691   \n",
       "1  3901356495  LINUX SYSTEM ADMINISTRATOR (CAOC)  19090468   \n",
       "2  3901356495  LINUX SYSTEM ADMINISTRATOR (CAOC)  44115326   \n",
       "3  3901356495  LINUX SYSTEM ADMINISTRATOR (CAOC)  22450718   \n",
       "4  3901356495  LINUX SYSTEM ADMINISTRATOR (CAOC)  23864648   \n",
       "\n",
       "              cv_category  similarity_score  rank  \n",
       "0                DESIGNER          0.330238     1  \n",
       "1              HEALTHCARE          0.321136     2  \n",
       "2                ADVOCATE          0.289770     3  \n",
       "3  INFORMATION-TECHNOLOGY          0.276257     4  \n",
       "4  INFORMATION-TECHNOLOGY          0.259785     5  "
      ]
     },
     "execution_count": 17,
     "metadata": {},
     "output_type": "execute_result"
    }
   ],
   "source": [
    "top_n = 5\n",
    "\n",
    "job_real_id = job_sample['job_id']\n",
    "job_title   = job_sample['title']\n",
    "\n",
    "\n",
    "top_matches = similarity_vector.argsort()[::-1][:top_n]\n",
    "\n",
    "results = []\n",
    "for rank, cv_idx in enumerate(top_matches, start=1):\n",
    "    cv_real_id   = df_resumes.iloc[cv_idx]['ID']\n",
    "    cv_category  = df_resumes.iloc[cv_idx]['Category']\n",
    "    score        = similarity_vector[cv_idx]\n",
    "    \n",
    "    results.append({\n",
    "        'job_id':           job_real_id,\n",
    "        'job_title':        job_title,\n",
    "        'cv_id':            cv_real_id,\n",
    "        'cv_category':      cv_category,\n",
    "        'similarity_score': score,\n",
    "        'rank':             rank\n",
    "    })\n",
    "\n",
    "df_matches = pd.DataFrame(results)\n",
    "df_matches\n"
   ]
  },
  {
   "cell_type": "code",
   "execution_count": 18,
   "metadata": {},
   "outputs": [
    {
     "data": {
      "text/plain": [
       "'mission support compute architecture operation center caoc quantum research provides program management network operation security operation technical support necessary advance service capability infrastructure technology responsibility quantum research intl quantum seeking linux administrator support team administrator standard linux system administration duty caoc huntsville al selected candidate perform standard linux system administration duty required maintain smooth operation multi user computer system consisting linux based application license server virtual machine shared service coordination network storage administrator required additional duty setting administrator service account maintaining system documentation tuning system performance installing system wide software allocate mass storage space developing monitoring policy standard allocation related use computing resource participating installation integration acceptance testing going maintenance system software environment assisting forecast resource limitation provide recommendation increasing efficiency resource proper scheduling load balancing technique support develop automation streamline standardize deployment maintenance task build maintain automation framework support overall system include customer onboarding offboarding standard maintenance patching user account administration using ansible develop knowledge maintain administer container based solution requirement bachelor degree least year experience additional experience may substituted degree dod certification security o cert linux redhat etc day waiver may provided obtain o certification willingness occasionally work hour respond emergency situation problem resolutiongeneral knowledge linux general unix operating system concept well system administration experienceability develop maintain documentation system administration procedure routine complex tasksability create maintain information assurance ia compliance documentation information systempreferred education experience skill experience compiling installing porting software experience storage device nfs storage protocol familiar multi factor authentication platform solution identity management openid ldap kerberos security implementation using multi factor authentication pki kerberos unix o hardening dod stig standard experience programming troubleshooting python codeexperience supporting apache web serverexperience ubuntu red hat enterprise linux distrosexperience red hat satellite red hat identity managerexperience bind dnsexperience ansibleexperience gitlabclearance requirement must able obtain maintain top secret must currently possess noneoverview quantum research international inc quantum provides national defense federal civilian industry customer service product following main area cybersecurity information operation space operation control aviation system ground air missile defense fire support system intelligence program support experimentation test program management audio visual technology application quantum corporate office located huntsville al quantum actively hire position nationwide internationally pride providing high quality support u government nation warfighters addition corporate office physical location aberdeen md colorado spring co crestview fl orlando fl tupelo msequal opportunity employer affirmative action employer f v qualified applicant receive consideration employment without regard race color religion sex national origin age disability veteran status genetic information sexual orientation gender identity characteristic protected law reasonable accommodation may made enable individual disability perform essential function'"
      ]
     },
     "execution_count": 18,
     "metadata": {},
     "output_type": "execute_result"
    }
   ],
   "source": [
    "job_sample['description']"
   ]
  }
 ],
 "metadata": {
  "kernelspec": {
   "display_name": "ResumeProject",
   "language": "python",
   "name": "python3"
  },
  "language_info": {
   "codemirror_mode": {
    "name": "ipython",
    "version": 3
   },
   "file_extension": ".py",
   "mimetype": "text/x-python",
   "name": "python",
   "nbconvert_exporter": "python",
   "pygments_lexer": "ipython3",
   "version": "3.11.11"
  }
 },
 "nbformat": 4,
 "nbformat_minor": 4
}
