{
 "cells": [
  {
   "cell_type": "code",
   "execution_count": 1,
   "id": "482f7e25",
   "metadata": {},
   "outputs": [],
   "source": [
    "import pandas as pd"
   ]
  },
  {
   "cell_type": "code",
   "execution_count": 2,
   "id": "f08e8a62",
   "metadata": {},
   "outputs": [],
   "source": [
    "df = pd.read_csv(\"NewDataset/Resume/Resume.csv\")"
   ]
  },
  {
   "cell_type": "code",
   "execution_count": null,
   "id": "96b45c51",
   "metadata": {},
   "outputs": [],
   "source": [
    "def change_category(ID, old_class, new_class):\n",
    "\n",
    "    allowed_categories = [\n",
    "        'HR', 'DESIGNER', 'INFORMATION-TECHNOLOGY', 'TEACHER', 'ADVOCATE',\n",
    "        'BUSINESS-DEVELOPMENT', 'HEALTHCARE', 'FITNESS', 'AGRICULTURE',\n",
    "        'BPO', 'SALES', 'CONSULTANT', 'DIGITAL-MEDIA', 'AUTOMOBILE',\n",
    "        'CHEF', 'FINANCE', 'APPAREL', 'ENGINEERING', 'ACCOUNTANT',\n",
    "        'CONSTRUCTION', 'PUBLIC-RELATIONS', 'BANKING', 'ARTS', 'AVIATION'\n",
    "    ]\n",
    "\n",
    "    # Check if the given ID exists in the DataFrame\n",
    "    if ID not in df['ID'].values:\n",
    "        print(f\"ID '{ID}' not found in the DataFrame.\")\n",
    "\n",
    "    # Check if new_class is a valid category\n",
    "    if new_class not in allowed_categories:\n",
    "        print(f\"'{new_class}' is not a valid category. Choose from: {allowed_categories}\")\n",
    "\n",
    "    # Check if old_class is a valid category\n",
    "    if old_class not in allowed_categories:\n",
    "        print(f\"'{old_class}' is not a valid category. Choose from: {allowed_categories}\")\n",
    "    \n",
    "    # Get the index of the row with the specified ID\n",
    "    index = df[df['ID'] == ID].index[0]\n",
    "    \n",
    "    # Check if the current category matches old_class\n",
    "    if df.at[index, 'Category'] != old_class:\n",
    "        current_class = df.at[index, 'Category']\n",
    "        print(f\"Expected category '{old_class}' for ID '{ID}', but found '{current_class}'.\")\n",
    "    \n",
    "    # Update the category to the new class\n",
    "    df.at[index, 'Category'] = new_class\n"
   ]
  },
  {
   "cell_type": "code",
   "execution_count": 4,
   "id": "a30459b1",
   "metadata": {},
   "outputs": [
    {
     "data": {
      "text/plain": [
       "547    ADVOCATE\n",
       "Name: Category, dtype: object"
      ]
     },
     "execution_count": 4,
     "metadata": {},
     "output_type": "execute_result"
    }
   ],
   "source": [
    "df[df['ID'] == 44115326 ]['Category']"
   ]
  },
  {
   "cell_type": "code",
   "execution_count": null,
   "id": "5e094ef7",
   "metadata": {},
   "outputs": [],
   "source": [
    "## NON CAMBIARE CONTENUTO DI QUESTA CELLA, CI SONO CAMBI LABEL GIA' CONTROLLATI, CHE DOBBIAMO FARE\n",
    "\n",
    "\n",
    "## CLASSE ACCOUNTANT SONO TUTTI GIUSTI\n",
    "\n",
    "## CLASSE ADVOCATE SONO ARRIVATO A 11963737\n",
    "change_category(10344379, 'ADVOCATE', 'BPO')\n",
    "change_category(10659182, 'ADVOCATE', 'TEACHER')\n",
    "change_category(10818478, 'ADVOCATE', 'SALES')\n",
    "change_category(11174187, 'ADVOCATE', 'HEALTHCARE')\n",
    "\n",
    "\n",
    "change_category(44115326, 'ADVOCATE', 'INFORMATION-TECHNOLOGY')\n",
    "\n",
    "\n",
    "change_category(11676151, 'AGRICOLTURE', 'INFORMATION-TECHNOLOGY')\n",
    "change_category(23631188, 'AGRICOLTURE', 'ACCOUNTANT')\n",
    "change_category(27689009, 'AGRICOLTURE', 'ADVOCATE')\n",
    "change_category(29746235, 'AGRICOLTURE', 'HEALTHCARE')\n",
    "change_category(69336473, 'AGRICOLTURE', 'HEALTHCARE')\n",
    "\n",
    "\n",
    "change_category(12415691, 'DESIGNER', 'INFORMATION-TECHNOLOGY')\n",
    "\n",
    "\n",
    "\n",
    "\n",
    "\n",
    "## NON CAMBIARE CONTENUTO DI QUESTA CELLA, CI SONO CAMBI LABEL GIA' CONTROLLATI, CHE DOBBIAMO FARE"
   ]
  },
  {
   "cell_type": "code",
   "execution_count": 6,
   "id": "83776628",
   "metadata": {},
   "outputs": [
    {
     "data": {
      "text/plain": [
       "547    INFORMATION-TECHNOLOGY\n",
       "Name: Category, dtype: object"
      ]
     },
     "execution_count": 6,
     "metadata": {},
     "output_type": "execute_result"
    }
   ],
   "source": [
    "df[df['ID'] == 44115326 ]['Category']"
   ]
  }
 ],
 "metadata": {
  "kernelspec": {
   "display_name": "ResumeProject",
   "language": "python",
   "name": "python3"
  },
  "language_info": {
   "codemirror_mode": {
    "name": "ipython",
    "version": 3
   },
   "file_extension": ".py",
   "mimetype": "text/x-python",
   "name": "python",
   "nbconvert_exporter": "python",
   "pygments_lexer": "ipython3",
   "version": "3.11.11"
  }
 },
 "nbformat": 4,
 "nbformat_minor": 5
}
