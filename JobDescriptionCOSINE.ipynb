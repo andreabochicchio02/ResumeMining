{
 "cells": [
  {
   "cell_type": "code",
   "execution_count": 1,
   "metadata": {},
   "outputs": [
    {
     "name": "stderr",
     "output_type": "stream",
     "text": [
      "[nltk_data] Downloading package punkt to\n",
      "[nltk_data]     C:\\Users\\andre\\AppData\\Roaming\\nltk_data...\n",
      "[nltk_data]   Package punkt is already up-to-date!\n",
      "[nltk_data] Downloading package punkt_tab to\n",
      "[nltk_data]     C:\\Users\\andre\\AppData\\Roaming\\nltk_data...\n",
      "[nltk_data]   Package punkt_tab is already up-to-date!\n",
      "[nltk_data] Downloading package wordnet to\n",
      "[nltk_data]     C:\\Users\\andre\\AppData\\Roaming\\nltk_data...\n",
      "[nltk_data]   Package wordnet is already up-to-date!\n",
      "[nltk_data] Downloading package stopwords to\n",
      "[nltk_data]     C:\\Users\\andre\\AppData\\Roaming\\nltk_data...\n",
      "[nltk_data]   Package stopwords is already up-to-date!\n",
      "[nltk_data] Downloading package words to\n",
      "[nltk_data]     C:\\Users\\andre\\AppData\\Roaming\\nltk_data...\n",
      "[nltk_data]   Package words is already up-to-date!\n"
     ]
    },
    {
     "data": {
      "text/plain": [
       "True"
      ]
     },
     "execution_count": 1,
     "metadata": {},
     "output_type": "execute_result"
    }
   ],
   "source": [
    "import pandas as pd\n",
    "import nltk\n",
    "from sklearn.feature_extraction.text import CountVectorizer\n",
    "from sklearn.metrics.pairwise import cosine_similarity\n",
    "from sklearn.feature_extraction.text import TfidfVectorizer\n",
    "\n",
    "# Download necessary NLTK packages\n",
    "nltk.download('punkt')\n",
    "nltk.download('punkt_tab')\n",
    "nltk.download('wordnet')\n",
    "nltk.download('stopwords')\n",
    "nltk.download('words')"
   ]
  },
  {
   "cell_type": "code",
   "execution_count": 2,
   "metadata": {},
   "outputs": [],
   "source": [
    "stop_words = set(nltk.corpus.stopwords.words('english'))"
   ]
  },
  {
   "cell_type": "markdown",
   "metadata": {},
   "source": [
    "### Resume"
   ]
  },
  {
   "cell_type": "code",
   "execution_count": 3,
   "metadata": {
    "scrolled": true
   },
   "outputs": [
    {
     "data": {
      "text/html": [
       "<div>\n",
       "<style scoped>\n",
       "    .dataframe tbody tr th:only-of-type {\n",
       "        vertical-align: middle;\n",
       "    }\n",
       "\n",
       "    .dataframe tbody tr th {\n",
       "        vertical-align: top;\n",
       "    }\n",
       "\n",
       "    .dataframe thead th {\n",
       "        text-align: right;\n",
       "    }\n",
       "</style>\n",
       "<table border=\"1\" class=\"dataframe\">\n",
       "  <thead>\n",
       "    <tr style=\"text-align: right;\">\n",
       "      <th></th>\n",
       "      <th>ID</th>\n",
       "      <th>Resume_str</th>\n",
       "      <th>Category</th>\n",
       "    </tr>\n",
       "  </thead>\n",
       "  <tbody>\n",
       "    <tr>\n",
       "      <th>0</th>\n",
       "      <td>16852973</td>\n",
       "      <td>hr administrator marketing associate hr admini...</td>\n",
       "      <td>HR</td>\n",
       "    </tr>\n",
       "    <tr>\n",
       "      <th>1</th>\n",
       "      <td>22323967</td>\n",
       "      <td>hr specialist u hr operation summary versatile...</td>\n",
       "      <td>HR</td>\n",
       "    </tr>\n",
       "    <tr>\n",
       "      <th>2</th>\n",
       "      <td>33176873</td>\n",
       "      <td>hr director summary year experience recruiting...</td>\n",
       "      <td>HR</td>\n",
       "    </tr>\n",
       "    <tr>\n",
       "      <th>3</th>\n",
       "      <td>27018550</td>\n",
       "      <td>hr specialist summary dedicated driven dynamic...</td>\n",
       "      <td>HR</td>\n",
       "    </tr>\n",
       "    <tr>\n",
       "      <th>4</th>\n",
       "      <td>17812897</td>\n",
       "      <td>hr manager skill highlight hr skill hr departm...</td>\n",
       "      <td>HR</td>\n",
       "    </tr>\n",
       "  </tbody>\n",
       "</table>\n",
       "</div>"
      ],
      "text/plain": [
       "         ID                                         Resume_str Category\n",
       "0  16852973  hr administrator marketing associate hr admini...       HR\n",
       "1  22323967  hr specialist u hr operation summary versatile...       HR\n",
       "2  33176873  hr director summary year experience recruiting...       HR\n",
       "3  27018550  hr specialist summary dedicated driven dynamic...       HR\n",
       "4  17812897  hr manager skill highlight hr skill hr departm...       HR"
      ]
     },
     "execution_count": 3,
     "metadata": {},
     "output_type": "execute_result"
    }
   ],
   "source": [
    "df_resumes = pd.read_csv('PreProcessing/processed_data/Resume_proc_lemm.csv')\n",
    "df_resumes.head()"
   ]
  },
  {
   "cell_type": "code",
   "execution_count": 4,
   "metadata": {},
   "outputs": [
    {
     "name": "stdout",
     "output_type": "stream",
     "text": [
      "<class 'pandas.core.frame.DataFrame'>\n",
      "RangeIndex: 2483 entries, 0 to 2482\n",
      "Data columns (total 3 columns):\n",
      " #   Column      Non-Null Count  Dtype \n",
      "---  ------      --------------  ----- \n",
      " 0   ID          2483 non-null   int64 \n",
      " 1   Resume_str  2483 non-null   object\n",
      " 2   Category    2483 non-null   object\n",
      "dtypes: int64(1), object(2)\n",
      "memory usage: 58.3+ KB\n"
     ]
    }
   ],
   "source": [
    "df_resumes.info()"
   ]
  },
  {
   "cell_type": "markdown",
   "metadata": {},
   "source": [
    "### Job Description"
   ]
  },
  {
   "cell_type": "code",
   "execution_count": 5,
   "metadata": {},
   "outputs": [
    {
     "data": {
      "text/html": [
       "<div>\n",
       "<style scoped>\n",
       "    .dataframe tbody tr th:only-of-type {\n",
       "        vertical-align: middle;\n",
       "    }\n",
       "\n",
       "    .dataframe tbody tr th {\n",
       "        vertical-align: top;\n",
       "    }\n",
       "\n",
       "    .dataframe thead th {\n",
       "        text-align: right;\n",
       "    }\n",
       "</style>\n",
       "<table border=\"1\" class=\"dataframe\">\n",
       "  <thead>\n",
       "    <tr style=\"text-align: right;\">\n",
       "      <th></th>\n",
       "      <th>job_id</th>\n",
       "      <th>title</th>\n",
       "      <th>description</th>\n",
       "      <th>skills_desc</th>\n",
       "      <th>word_count</th>\n",
       "    </tr>\n",
       "  </thead>\n",
       "  <tbody>\n",
       "    <tr>\n",
       "      <th>0</th>\n",
       "      <td>23221523</td>\n",
       "      <td>Senior Elder Law / Trusts and Estates Associat...</td>\n",
       "      <td>senior associate attorney elder law trust esta...</td>\n",
       "      <td>This position requires a baseline understandin...</td>\n",
       "      <td>209</td>\n",
       "    </tr>\n",
       "    <tr>\n",
       "      <th>1</th>\n",
       "      <td>2264355</td>\n",
       "      <td>Worship Leader</td>\n",
       "      <td>exciting time part church looking right energe...</td>\n",
       "      <td>Knowledge, Skills and Abilities: 1. Proficient...</td>\n",
       "      <td>231</td>\n",
       "    </tr>\n",
       "    <tr>\n",
       "      <th>2</th>\n",
       "      <td>175485704</td>\n",
       "      <td>Software Engineer</td>\n",
       "      <td>job description goyt seeking skilled motivated...</td>\n",
       "      <td>NaN</td>\n",
       "      <td>223</td>\n",
       "    </tr>\n",
       "    <tr>\n",
       "      <th>3</th>\n",
       "      <td>231010577</td>\n",
       "      <td>Service / Construction Technician</td>\n",
       "      <td>company descriptionpierce refrigeration full s...</td>\n",
       "      <td>NaN</td>\n",
       "      <td>234</td>\n",
       "    </tr>\n",
       "    <tr>\n",
       "      <th>4</th>\n",
       "      <td>263583866</td>\n",
       "      <td>Registered Nurse</td>\n",
       "      <td>currently need following team member grayling ...</td>\n",
       "      <td>NaN</td>\n",
       "      <td>215</td>\n",
       "    </tr>\n",
       "  </tbody>\n",
       "</table>\n",
       "</div>"
      ],
      "text/plain": [
       "      job_id                                              title  \\\n",
       "0   23221523  Senior Elder Law / Trusts and Estates Associat...   \n",
       "1    2264355                                     Worship Leader   \n",
       "2  175485704                                  Software Engineer   \n",
       "3  231010577                  Service / Construction Technician   \n",
       "4  263583866                                   Registered Nurse   \n",
       "\n",
       "                                         description  \\\n",
       "0  senior associate attorney elder law trust esta...   \n",
       "1  exciting time part church looking right energe...   \n",
       "2  job description goyt seeking skilled motivated...   \n",
       "3  company descriptionpierce refrigeration full s...   \n",
       "4  currently need following team member grayling ...   \n",
       "\n",
       "                                         skills_desc  word_count  \n",
       "0  This position requires a baseline understandin...         209  \n",
       "1  Knowledge, Skills and Abilities: 1. Proficient...         231  \n",
       "2                                                NaN         223  \n",
       "3                                                NaN         234  \n",
       "4                                                NaN         215  "
      ]
     },
     "execution_count": 5,
     "metadata": {},
     "output_type": "execute_result"
    }
   ],
   "source": [
    "df_jobs = pd.read_csv('PreProcessing Jobs\\processed_data\\Job_proc_lemm.csv')\n",
    "df_jobs.head()"
   ]
  },
  {
   "cell_type": "code",
   "execution_count": 6,
   "metadata": {},
   "outputs": [
    {
     "name": "stdout",
     "output_type": "stream",
     "text": [
      "<class 'pandas.core.frame.DataFrame'>\n",
      "RangeIndex: 7382 entries, 0 to 7381\n",
      "Data columns (total 5 columns):\n",
      " #   Column       Non-Null Count  Dtype \n",
      "---  ------       --------------  ----- \n",
      " 0   job_id       7382 non-null   int64 \n",
      " 1   title        7382 non-null   object\n",
      " 2   description  7382 non-null   object\n",
      " 3   skills_desc  215 non-null    object\n",
      " 4   word_count   7382 non-null   int64 \n",
      "dtypes: int64(2), object(3)\n",
      "memory usage: 288.5+ KB\n"
     ]
    }
   ],
   "source": [
    "df_jobs.info()"
   ]
  },
  {
   "cell_type": "markdown",
   "metadata": {},
   "source": [
    "### Similarity"
   ]
  },
  {
   "cell_type": "code",
   "execution_count": 7,
   "metadata": {},
   "outputs": [],
   "source": [
    "tfidf_vect = TfidfVectorizer(\n",
    "    lowercase=True,\n",
    "    binary=False,\n",
    "    max_features=10000,\n",
    "    stop_words=list(stop_words),   # come prima, valuta se serve\n",
    "    ngram_range=(1, 6),            # unigrams fino a 6-grams\n",
    "    max_df=0.8,\n",
    "    min_df=2\n",
    ")"
   ]
  },
  {
   "cell_type": "code",
   "execution_count": 8,
   "metadata": {},
   "outputs": [],
   "source": [
    "cv_texts = df_resumes['Resume_str'].tolist()\n",
    "job_texts = df_jobs['description'].tolist()"
   ]
  },
  {
   "cell_type": "code",
   "execution_count": 9,
   "metadata": {},
   "outputs": [],
   "source": [
    "corpus = cv_texts + job_texts"
   ]
  },
  {
   "cell_type": "code",
   "execution_count": 10,
   "metadata": {},
   "outputs": [],
   "source": [
    "tfidf_matrix = tfidf_vect.fit_transform(corpus)"
   ]
  },
  {
   "cell_type": "code",
   "execution_count": 11,
   "metadata": {},
   "outputs": [],
   "source": [
    "# Dividi la matrice\n",
    "cv_vectors = tfidf_matrix[:len(cv_texts)]\n",
    "job_vectors = tfidf_matrix[len(cv_texts):]\n",
    "\n",
    "# Calcola la similarità tra ogni job description e i CV\n",
    "similarity_matrix = cosine_similarity(job_vectors, cv_vectors)"
   ]
  },
  {
   "cell_type": "code",
   "execution_count": null,
   "metadata": {},
   "outputs": [
    {
     "data": {
      "text/plain": [
       "<bound method NDFrame.head of            job_id                                          job_title  \\\n",
       "0        23221523  Senior Elder Law / Trusts and Estates Associat...   \n",
       "1        23221523  Senior Elder Law / Trusts and Estates Associat...   \n",
       "2        23221523  Senior Elder Law / Trusts and Estates Associat...   \n",
       "3         2264355                                     Worship Leader   \n",
       "4         2264355                                     Worship Leader   \n",
       "...           ...                                                ...   \n",
       "22141  3906265348                  Research And Development Engineer   \n",
       "22142  3906265348                  Research And Development Engineer   \n",
       "22143  3906266272                                   Quality Engineer   \n",
       "22144  3906266272                                   Quality Engineer   \n",
       "22145  3906266272                                   Quality Engineer   \n",
       "\n",
       "          cv_id   cv_category  similarity_score  rank  \n",
       "0      26098594       APPAREL          0.228161     1  \n",
       "1      14849103  CONSTRUCTION          0.213627     2  \n",
       "2      10332998    CONSULTANT          0.213341     3  \n",
       "3      28063132       TEACHER          0.199059     1  \n",
       "4      22593054          ARTS          0.176657     2  \n",
       "...         ...           ...               ...   ...  \n",
       "22141  82246962   ENGINEERING          0.277285     2  \n",
       "22142  21629057   ENGINEERING          0.235045     3  \n",
       "22143  12526702    CONSULTANT          0.214877     1  \n",
       "22144  33685075   ENGINEERING          0.207335     2  \n",
       "22145  24770846  CONSTRUCTION          0.192561     3  \n",
       "\n",
       "[22146 rows x 6 columns]>"
      ]
     },
     "execution_count": 26,
     "metadata": {},
     "output_type": "execute_result"
    }
   ],
   "source": [
    "results = []\n",
    "top_n = 3  # cambia se vuoi più/meno match\n",
    "\n",
    "for job_idx, similarities in enumerate(similarity_matrix):\n",
    "    top_matches = similarities.argsort()[::-1][:top_n]\n",
    "\n",
    "    job_real_id = df_jobs.iloc[job_idx]['job_id']  # prendi l'ID vero del job\n",
    "    job_title = df_jobs.iloc[job_idx]['title']\n",
    "\n",
    "    for rank, cv_idx in enumerate(top_matches):\n",
    "        cv_real_id = df_resumes.iloc[cv_idx]['ID']  # prendi l'ID vero del CV\n",
    "        cv_category = df_resumes.iloc[cv_idx]['Category']\n",
    "\n",
    "        results.append({\n",
    "            'job_id': job_real_id,\n",
    "            'job_title': job_title,\n",
    "            'cv_id': cv_real_id,\n",
    "            'cv_category': cv_category,\n",
    "            'similarity_score': similarities[cv_idx],\n",
    "            'rank': rank + 1\n",
    "        })\n",
    "\n",
    "df_matches = pd.DataFrame(results)\n",
    "df_matches.head(10)\n"
   ]
  }
 ],
 "metadata": {
  "kernelspec": {
   "display_name": "Python 3",
   "language": "python",
   "name": "python3"
  },
  "language_info": {
   "codemirror_mode": {
    "name": "ipython",
    "version": 3
   },
   "file_extension": ".py",
   "mimetype": "text/x-python",
   "name": "python",
   "nbconvert_exporter": "python",
   "pygments_lexer": "ipython3",
   "version": "3.10.11"
  }
 },
 "nbformat": 4,
 "nbformat_minor": 4
}
